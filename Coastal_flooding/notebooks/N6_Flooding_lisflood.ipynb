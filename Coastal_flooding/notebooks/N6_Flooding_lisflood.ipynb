{
 "cells": [
  {
   "cell_type": "markdown",
   "metadata": {},
   "source": [
    "# **Numerical model LisFlood FP**"
   ]
  },
  {
   "cell_type": "markdown",
   "metadata": {},
   "source": [
    "<span style=\"font-family: times, Optima; font-size:11pt; color:black;\">\n",
    "LISFLOOD-FP is a hydrodinamic numerical model designed to simulate floodplain inundation events.\n",
    "<span"
   ]
  },
  {
   "cell_type": "code",
   "execution_count": null,
   "metadata": {
    "tags": []
   },
   "outputs": [],
   "source": [
    "from IPython.display import IFrame, Video\n",
    "IFrame(\"../../lib/resources/LisfloodFP.pdf\", width=800, height=500)"
   ]
  },
  {
   "cell_type": "code",
   "execution_count": null,
   "metadata": {
    "tags": []
   },
   "outputs": [],
   "source": [
    "Video(\"../../lib/resources/Guam_flood_acc.mp4\", width=800, height=500)"
   ]
  },
  {
   "cell_type": "code",
   "execution_count": null,
   "metadata": {
    "tags": []
   },
   "outputs": [],
   "source": [
    "Video(\"../../lib/resources/video_lisflood.mp4\", width=800, height=500)"
   ]
  },
  {
   "cell_type": "code",
   "execution_count": null,
   "metadata": {
    "tags": []
   },
   "outputs": [],
   "source": [
    "# pip\n",
    "import os\n",
    "import os.path as op\n",
    "import sys\n",
    "\n",
    "import numpy as np\n",
    "import xarray as xr\n",
    "import rioxarray\n",
    "import matplotlib.pyplot as plt\n",
    "import cmocean \n",
    "\n",
    "# dev\n",
    "sys.path.insert(0, op.join(os.getcwd(), '..', '..'))\n",
    "\n",
    "# LISFLOOD module \n",
    "from lib.lisfloodpy.wrap import LisfloodCase, LisfloodProject, LisfloodWrap \n",
    "from lib.lisfloodpy.plots import plot_output_2d\n",
    "from lib.lisfloodpy.io import make_dem\n",
    "\n",
    "from lib.config import *\n"
   ]
  },
  {
   "cell_type": "markdown",
   "metadata": {},
   "source": [
    "<span style=\"font-family: times, Optima; font-size:11pt; color:black;\">\n",
    "<div class=\"alert alert-block alert-danger\"><b>MHHW </b> Mean Highest High Water <br> The average of the higher high water height of each tidal day over a total epoch (19 years). <br> The \"zs\" water depths defined as input coditions for LisFlood-FP must be given over this threshold.</div><span"
   ]
  },
  {
   "cell_type": "markdown",
   "metadata": {},
   "source": [
    "## Load input DEM"
   ]
  },
  {
   "cell_type": "code",
   "execution_count": null,
   "metadata": {
    "tags": []
   },
   "outputs": [],
   "source": [
    "# data folder\n",
    "p_data = op.abspath(op.join(os.getcwd(), '..', 'data', 'lisflood'))\n",
    "\n",
    "# projects path\n",
    "p_proj = op.join(p_data, 'projects')"
   ]
  },
  {
   "cell_type": "code",
   "execution_count": null,
   "metadata": {
    "tags": []
   },
   "outputs": [],
   "source": [
    "# Setup files \n",
    "p_dem = op.join(p_data, 'config', 'DEM.asc')\n",
    "p_bci = op.join(p_data, 'config', 'boundary.bci')"
   ]
  },
  {
   "cell_type": "markdown",
   "metadata": {},
   "source": [
    "## Load forcing input "
   ]
  },
  {
   "cell_type": "code",
   "execution_count": null,
   "metadata": {
    "tags": []
   },
   "outputs": [],
   "source": [
    "MHHW = 0.7\n",
    "sim_period = 3600  # seconds\n",
    "zs = [1, 2, 3]               # water level above 0.7 (MHHW)"
   ]
  },
  {
   "cell_type": "code",
   "execution_count": null,
   "metadata": {
    "tags": []
   },
   "outputs": [],
   "source": [
    "# prepare and store Lisflood cases inside a list\n",
    "l_cases = []\n",
    "for pz, z in enumerate(zs):\n",
    "    time = np.arange(sim_period)\n",
    "    z = np.concatenate([np.linspace(MHHW, z, int(sim_period/2)), np.linspace(z, MHHW, sim_period- int(sim_period/2))]) \n",
    "    \n",
    "    xds = xr.Dataset(\n",
    "        {'z': (('time',), z)},\n",
    "        coords = {'time': time},\n",
    "        attrs = {'units': 'm'},\n",
    "    )\n",
    "    \n",
    "    plt.figure(figsize=(4,2))\n",
    "    plt.fill_between(xds.time.values, np.ones(len(xds.z.values))*MHHW, xds.z.values, fc='slateblue', alpha=0.5)\n",
    "    plt.title('Hydrograph - Case {0}'.format(pz))\n",
    "    plt.xlabel('Time (seconds)')\n",
    "    plt.ylabel('Z (m)')\n",
    "    \n",
    "    lc = LisfloodCase()\n",
    "    lc.id = 'case{0}'.format(pz)\n",
    "\n",
    "    # set levels\n",
    "    lc.hvar_activate = True\n",
    "    lc.level_value = xds['z']\n",
    "    lc.level_freq = 'seconds' \n",
    "    \n",
    "    l_cases.append(lc)"
   ]
  },
  {
   "cell_type": "markdown",
   "metadata": {},
   "source": [
    "## Create cases project "
   ]
  },
  {
   "cell_type": "code",
   "execution_count": null,
   "metadata": {
    "tags": []
   },
   "outputs": [],
   "source": [
    "# Lisflood PROJECT \n",
    "\n",
    "p_proj = op.join(p_data, 'projects')  # lisflood projects main directory\n",
    "n_proj = ''                           # project name\n",
    "\n",
    "lp = LisfloodProject(p_proj, n_proj)  # lisflood wrap\n",
    "\n",
    "# DEM \n",
    "lp.dem_file = p_dem\n",
    "lp.bci_file = p_bci\n",
    "lp.cartesian = True\n",
    "\n",
    "lp.ncols = 3300\n",
    "lp.nrows = 1660\n",
    "lp.xllcorner = 408002.50\n",
    "lp.yllcorner = 8467002.50\n",
    "lp.cellsize = 5\n",
    "lp.nodata = -9999  \n",
    "\n",
    "# LISFLOOD parameters\n",
    "lp.saveint = 120           # interval saved files (s)\n",
    "lp.massint = 120           # interval .mass file (s)\n",
    "lp.sim_time = 3600        # simulation length (s)\n",
    "lp.initial_tstep = 10      # Initial guess for optimum and max time step\n",
    "lp.fpfric = 0.06            # Manning's (floodplain) if spatially uniform\n",
    "\n",
    "# Water balance parameters\n",
    "lp.routing = False           # recommended for rainfall when steep sloopes\n",
    "lp.depththresh = 0.005      # depth at which a cell is considered wet (m)\n",
    "#lp.routesfthresh = 0.1      # Water surface slope above which routing occurs\n",
    "\n",
    "# Output options\n",
    "lp.overpass = None          # time in seconds at which save flood image for validation\n",
    "lp.depthoff = True          # suppress depth files (*.wd) \n",
    "lp.elevoff = True           # suppress water surface files (*.elev)\n",
    "\n",
    "# Model solver\n",
    "lp.solver = 'Roe'\n"
   ]
  },
  {
   "cell_type": "markdown",
   "metadata": {},
   "source": [
    "## Launch wrapper "
   ]
  },
  {
   "cell_type": "code",
   "execution_count": null,
   "metadata": {
    "tags": []
   },
   "outputs": [],
   "source": [
    "# Lisflood WRAP \n",
    "lw = LisfloodWrap(lp)"
   ]
  },
  {
   "cell_type": "code",
   "execution_count": null,
   "metadata": {},
   "outputs": [],
   "source": [
    "# Build cases: rainfall flooding with and without coastal \"outflow\" \n",
    "lw.build_cases(l_cases)\n",
    "\n",
    "# Run LISFLOOD-FP\n",
    "lw.run_cases()"
   ]
  },
  {
   "cell_type": "markdown",
   "metadata": {},
   "source": [
    "## Postprocess output"
   ]
  },
  {
   "cell_type": "markdown",
   "metadata": {},
   "source": [
    "### Load output files"
   ]
  },
  {
   "cell_type": "code",
   "execution_count": null,
   "metadata": {},
   "outputs": [],
   "source": [
    "# Lisflood OUTPUT\n",
    "# .inittm .maxtm .totaltm .max .mxe\n",
    "xds_res = lw.extract_output('2d')\n",
    "xds_res"
   ]
  },
  {
   "cell_type": "markdown",
   "metadata": {},
   "source": [
    "### Plot output maps"
   ]
  },
  {
   "cell_type": "code",
   "execution_count": null,
   "metadata": {},
   "outputs": [],
   "source": [
    "# Plot 2D output\n",
    "sim_time = int(xds_res.attrs['simtime(h)'])\n",
    "cmap = cmocean.cm.dense\n",
    "name = 'Apia Coastal Flooding'\n",
    "var_plot = 'max'"
   ]
  },
  {
   "cell_type": "code",
   "execution_count": null,
   "metadata": {},
   "outputs": [],
   "source": [
    "# plot 2d output map\n",
    "vmax = 6\n",
    "plot_output_2d(name, xds_res, var_plot, sim_time, vmax, cmap)"
   ]
  },
  {
   "cell_type": "markdown",
   "metadata": {
    "tags": []
   },
   "source": [
    "### Convert rasters to text file "
   ]
  },
  {
   "cell_type": "code",
   "execution_count": null,
   "metadata": {},
   "outputs": [],
   "source": [
    "for case in xds_res.case.values:\n",
    "    \n",
    "    p_storage = op.join(p_data, 'projects', 'case{0}'.format(case))\n",
    "    \n",
    "    # store datase into .tif\n",
    "    xds_res.sel(case=case).rio.write_crs('epsg:{0}'.format(code_crs_samoa)).rio.to_raster(op.join(p_storage, 'flooding_raster.tif'))\n",
    "    \n",
    "    # create and store .asc file\n",
    "    make_dem(xds_res.isel(case=case-1), op.join(p_storage, 'flooding_raster.asc'))\n"
   ]
  },
  {
   "cell_type": "code",
   "execution_count": null,
   "metadata": {},
   "outputs": [],
   "source": []
  }
 ],
 "metadata": {
  "kernelspec": {
   "display_name": "Python 3 (ipykernel)",
   "language": "python",
   "name": "python3"
  },
  "language_info": {
   "codemirror_mode": {
    "name": "ipython",
    "version": 3
   },
   "file_extension": ".py",
   "mimetype": "text/x-python",
   "name": "python",
   "nbconvert_exporter": "python",
   "pygments_lexer": "ipython3",
   "version": "3.8.16"
  },
  "toc-autonumbering": true,
  "widgets": {
   "application/vnd.jupyter.widget-state+json": {
    "state": {},
    "version_major": 2,
    "version_minor": 0
   }
  }
 },
 "nbformat": 4,
 "nbformat_minor": 4
}
