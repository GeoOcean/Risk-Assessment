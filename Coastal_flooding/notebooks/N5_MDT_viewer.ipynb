{
 "cells": [
  {
   "cell_type": "markdown",
   "metadata": {},
   "source": [
    "# **Digital Model Elevation**"
   ]
  },
  {
   "cell_type": "code",
   "execution_count": null,
   "metadata": {},
   "outputs": [],
   "source": [
    "# pip\n",
    "import os\n",
    "import os.path as op\n",
    "import sys\n",
    "\n",
    "import matplotlib.pyplot as plt\n",
    "import xarray as xr\n",
    "import numpy as np\n",
    "import cmocean\n",
    "\n",
    "# cartopy shapereader\n",
    "import contextily as ctx\n",
    "\n",
    "# dev\n",
    "sys.path.insert(0, op.join(os.getcwd(), '..', '..'))\n",
    "\n",
    "from lib.config import *"
   ]
  },
  {
   "cell_type": "code",
   "execution_count": null,
   "metadata": {},
   "outputs": [],
   "source": [
    "# data folder \n",
    "p_data = op.abspath(op.join(os.getcwd(), '..', 'data', 'lisflood', 'config', 'DEM.nc'))\n",
    "raster = xr.open_dataset(p_data)"
   ]
  },
  {
   "cell_type": "markdown",
   "metadata": {},
   "source": [
    "## **Visualization: Complete Domain**"
   ]
  },
  {
   "cell_type": "code",
   "execution_count": null,
   "metadata": {},
   "outputs": [],
   "source": [
    "fig, ax = plt.subplots(1, figsize=(13, 13))\n",
    "ax.axis(extend_upolu)\n",
    "im = raster['z'].plot(ax=ax, add_colorbar=False, cmap=cmocean.cm.turbid, zorder=5)\n",
    "ctx.add_basemap(ax, crs='epsg:32702', source=ctx.providers.OpenStreetMap.Mapnik, attribution=False)\n",
    "fig.colorbar(im, shrink=0.3,  label='Elevation (m)')\n",
    "plt.show()\n"
   ]
  },
  {
   "cell_type": "markdown",
   "metadata": {},
   "source": [
    "## **Visualization: Topography bellow level *Z***"
   ]
  },
  {
   "cell_type": "code",
   "execution_count": null,
   "metadata": {},
   "outputs": [],
   "source": [
    "Z = 20 # meters of maximun elevation to plot"
   ]
  },
  {
   "cell_type": "code",
   "execution_count": null,
   "metadata": {},
   "outputs": [],
   "source": [
    "raster_b20 = raster.copy()\n",
    "raster_b20['z'].values = np.where(raster_b20['z'] > 20, np.nan, raster_b20['z'])"
   ]
  },
  {
   "cell_type": "code",
   "execution_count": null,
   "metadata": {},
   "outputs": [],
   "source": [
    "fig, ax = plt.subplots(1, figsize=(13, 13))\n",
    "#ax.axis(extend_upolu)\n",
    "im = ax.pcolorfast(raster_b20.x, raster_b20.y, raster_b20.z, cmap=cmocean.cm.turbid, zorder=5)\n",
    "ctx.add_basemap(ax, crs='epsg:32702', source=ctx.providers.OpenStreetMap.Mapnik, attribution=False)\n",
    "fig.colorbar(im, shrink=0.3,  label='Elevation (m)')\n",
    "plt.show()\n"
   ]
  },
  {
   "cell_type": "code",
   "execution_count": null,
   "metadata": {},
   "outputs": [],
   "source": []
  }
 ],
 "metadata": {
  "kernelspec": {
   "display_name": "Python 3 (ipykernel)",
   "language": "python",
   "name": "python3"
  },
  "language_info": {
   "codemirror_mode": {
    "name": "ipython",
    "version": 3
   },
   "file_extension": ".py",
   "mimetype": "text/x-python",
   "name": "python",
   "nbconvert_exporter": "python",
   "pygments_lexer": "ipython3",
   "version": "3.8.13"
  },
  "widgets": {
   "application/vnd.jupyter.widget-state+json": {
    "state": {},
    "version_major": 2,
    "version_minor": 0
   }
  }
 },
 "nbformat": 4,
 "nbformat_minor": 4
}
