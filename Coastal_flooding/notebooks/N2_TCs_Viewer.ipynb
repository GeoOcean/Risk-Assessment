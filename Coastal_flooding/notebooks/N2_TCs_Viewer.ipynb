{
 "cells": [
  {
   "cell_type": "markdown",
   "metadata": {},
   "source": [
    "# Tropical Cyclons Viewer\n",
    "\n",
    "This notebook generates an animation of a preselected tropical cyclone in the region of Upolu and Tongatapu Islands."
   ]
  },
  {
   "cell_type": "markdown",
   "metadata": {},
   "source": [
    "Table of contents:\n",
    "\n",
    "* [Select tropical cyclone](#1)\n",
    "* [Location map](#2)\n",
    "* [Data visualization](#3)"
   ]
  },
  {
   "cell_type": "code",
   "execution_count": null,
   "metadata": {
    "tags": []
   },
   "outputs": [],
   "source": [
    "import sys\n",
    "import os\n",
    "import os.path as op\n",
    "\n",
    "# basic\n",
    "import matplotlib\n",
    "from cartopy.io.img_tiles import Stamen\n",
    "import cartopy.crs as ccrs\n",
    "from IPython.display import HTML, display\n",
    "import ipywidgets as widgets\n",
    "from ipywidgets import interactive\n",
    "\n",
    "sys.path.insert(0, op.join(os.getcwd(), '..', '..'))\n",
    "\n",
    "# dependencies\n",
    "from lib.storm_viewer import *\n",
    "from lib.config import *"
   ]
  },
  {
   "cell_type": "code",
   "execution_count": null,
   "metadata": {
    "tags": []
   },
   "outputs": [],
   "source": [
    "import numpy as np\n",
    "from matplotlib import pyplot as plt, animation"
   ]
  },
  {
   "cell_type": "markdown",
   "metadata": {},
   "source": [
    "##  Select tropical cyclone "
   ]
  },
  {
   "cell_type": "code",
   "execution_count": null,
   "metadata": {
    "tags": []
   },
   "outputs": [],
   "source": [
    "# load the cyclons to choose\n",
    "path = op.join(os.getcwd(), '..', 'data', 'databases', 'TCs_1981_2020.nc')\n",
    "tcs = load_cyclons(path)\n",
    "\n",
    "# widgets...\n",
    "name_widget = widgets.Dropdown(options = list(np.unique(tcs.name.values)),\n",
    "                               description='Cyclone name:  ')\n",
    "season_widget = widgets.Dropdown(description='Season:  ')\n",
    "\n",
    "# update season_widget based on name_widget\n",
    "def update(*args):\n",
    "    tc_to_season = tcs.isel(storm=np.where(tcs.name.values==name_widget.value)[0])\n",
    "    season_options = list(np.unique(tc_to_season.season.values).astype(int))\n",
    "    season_widget.options = season_options\n",
    "    \n",
    "name_widget.observe(update)\n",
    "\n",
    "# extract from tcs the choosed cyclone\n",
    "def select_cyclon(name_widget, season_widget):\n",
    "    tc = tcs.isel(storm=np.where(tcs.name.values==name_widget)[0])\n",
    "    tc = tc.isel(storm=np.where(tc.season.values==season_widget)[0])\n",
    "    \n",
    "    return tc\n",
    "\n",
    "# plot the interaction\n",
    "tc = interactive(select_cyclon,\n",
    "                 name_widget = name_widget,\n",
    "                 season_widget = season_widget) \n",
    "display(tc)"
   ]
  },
  {
   "cell_type": "markdown",
   "metadata": {},
   "source": [
    "## Previsualization of the TC track "
   ]
  },
  {
   "cell_type": "code",
   "execution_count": null,
   "metadata": {
    "tags": []
   },
   "outputs": [],
   "source": [
    "cyclon = tc.result"
   ]
  },
  {
   "cell_type": "code",
   "execution_count": null,
   "metadata": {
    "tags": []
   },
   "outputs": [],
   "source": [
    "fig = plt.figure(figsize=(5, 5))\n",
    "gs = fig.add_gridspec(1,1)\n",
    "ax = fig.add_subplot(gs[0], projection=ccrs.PlateCarree(central_longitude=180))\n",
    "\n",
    "ax.plot(cyclon.squeeze().lon.dropna(dim='date_time'), cyclon.squeeze().lat.dropna(dim='date_time'), c='lavender', transform=ccrs.PlateCarree(), zorder=1)\n",
    "im2 = ax.scatter(cyclon.lon, cyclon.lat, c=cyclon.wmo_pres,  s=25, cmap='rainbow', transform=ccrs.PlateCarree(), zorder=2)\n",
    "ax.coastlines(resolution='auto', color='k')\n",
    "ax.add_feature(cfeature.LAND)\n",
    "ax.add_feature(cfeature.OCEAN)\n",
    "\n",
    "plt.colorbar(im2, ax=ax, label='Pressure', shrink=0.4)\n",
    "plt.show()"
   ]
  },
  {
   "cell_type": "markdown",
   "metadata": {},
   "source": [
    "## TC animation"
   ]
  },
  {
   "cell_type": "code",
   "execution_count": null,
   "metadata": {
    "tags": []
   },
   "outputs": [],
   "source": [
    "paths = op.join(path, '..')\n",
    "tc, temp, pres, mjo, awt, precip = load_data(tc.result, paths)"
   ]
  },
  {
   "cell_type": "code",
   "execution_count": null,
   "metadata": {
    "tags": []
   },
   "outputs": [],
   "source": [
    "pidx, id1, id2 = np.intersect1d(tc.time.astype('datetime64[ns]').values, temp.time.astype('datetime64[ns]').values, return_indices=True)\n",
    "tc = tc.isel(date_time =id1)\n",
    "tem = temp.isel(time=id2)"
   ]
  },
  {
   "cell_type": "code",
   "execution_count": null,
   "metadata": {
    "tags": []
   },
   "outputs": [],
   "source": [
    "fig = plt.figure()\n",
    "ax = fig.add_subplot(111, projection=ccrs.PlateCarree(central_longitude=180))\n",
    "\n",
    "im = ax.scatter([], [], c=[], vmin=tc.wmo_pres.min(), vmax=tc.wmo_pres.max(), zorder=5, cmap='viridis')\n",
    "plt.colorbar(im, shrink=0.4).set_label('Wmo Pressure (mbar)')\n",
    "im2 = ax.scatter([], [], c=[], vmin=22, vmax=32, zorder=5, cmap='jet')\n",
    "plt.colorbar(im2, shrink=0.4).set_label('Temperature (ºC)')\n",
    "\n",
    "def animate(frame):\n",
    "    \n",
    "    ax.cla()\n",
    "    ax.plot(tc.lon, tc.lat,  transform=ccrs.PlateCarree(), c='k', zorder=4)\n",
    "    ax.coastlines(resolution='auto', color='k')\n",
    "    ax.add_feature(cfeature.LAND)\n",
    "    ax.add_feature(cfeature.OCEAN)\n",
    "\n",
    "    im2 = ax.pcolormesh(temp.lon, temp.lat, temp.isel(time=frame).sst, vmin=22, vmax=32, alpha=0.5, cmap='jet', transform=ccrs.PlateCarree(), zorder=1)\n",
    "    \n",
    "    ax.scatter(tc.isel(date_time=slice(None, frame)).lon, \n",
    "               tc.isel(date_time=slice(None, frame)).lat, \n",
    "               c=tc.isel(date_time=slice(None, frame)).wmo_pres,  s=20, \n",
    "               vmin=tc.wmo_pres.min(), vmax=tc.wmo_pres.max(), transform=ccrs.PlateCarree(),  cmap='viridis', zorder=5)\n",
    "    \n",
    "    ax.contour(pres.longitude, pres.latitude, pres.SLP[frame,:,:], 30, colors='darkgrey', transform=ccrs.PlateCarree(), zorder=2)\n",
    "    ax.set_title('{0}'.format(tc.time.values[frame]))\n",
    "    \n",
    "anim = animation.FuncAnimation(fig, animate, interval=500, frames=len(tc.date_time) - 1)\n",
    "plt.close()\n"
   ]
  },
  {
   "cell_type": "code",
   "execution_count": null,
   "metadata": {
    "tags": []
   },
   "outputs": [],
   "source": [
    "matplotlib.rcParams['animation.embed_limit'] = 2**32\n",
    "HTML(anim.to_jshtml())"
   ]
  },
  {
   "cell_type": "code",
   "execution_count": null,
   "metadata": {},
   "outputs": [],
   "source": []
  }
 ],
 "metadata": {
  "kernelspec": {
   "display_name": "Python 3 (ipykernel)",
   "language": "python",
   "name": "python3"
  },
  "language_info": {
   "codemirror_mode": {
    "name": "ipython",
    "version": 3
   },
   "file_extension": ".py",
   "mimetype": "text/x-python",
   "name": "python",
   "nbconvert_exporter": "python",
   "pygments_lexer": "ipython3",
   "version": "3.8.16"
  },
  "widgets": {
   "application/vnd.jupyter.widget-state+json": {
    "state": {
     "11714313e4634bfb907b3aa346f9c807": {
      "model_module": "@jupyter-widgets/controls",
      "model_module_version": "1.5.0",
      "model_name": "DropdownModel",
      "state": {
       "_options_labels": [
        "ABIGAIL",
        "ALFRED",
        "AMI",
        "AMOS",
        "ARTHUR",
        "ATU",
        "BART",
        "BOLA",
        "BUNE",
        "CILLA",
        "CLIFF",
        "CORA",
        "CYRIL",
        "DAMAN",
        "DAPHNE",
        "DOVI",
        "DRENA",
        "ELISA",
        "ELLA",
        "ERIC",
        "ERNIE",
        "ESETA",
        "EVAN",
        "FILI",
        "FRAN",
        "FREDA",
        "FUNA",
        "GARRY",
        "GAVIN",
        "GENE",
        "GINA",
        "GITA",
        "HETA",
        "HETTIE",
        "HINA",
        "HR19S(MONA):MONA",
        "IAN",
        "IMA",
        "INNIS",
        "IRIS",
        "ISAAC",
        "JASMINE",
        "JO",
        "JONI",
        "JOSIE",
        "JUNE",
        "KELI",
        "KENI",
        "KERRY",
        "KINA",
        "KOFI",
        "LIN",
        "LOLA",
        "LUSI",
        "MARK",
        "MARTIN",
        "MEENA",
        "MICK",
        "MIKE",
        "MONA",
        "NANCY",
        "NEIL",
        "NIGEL",
        "NINA",
        "NISHA",
        "NOT_NAMED",
        "ODETTE",
        "OFA",
        "OLAF",
        "OLI",
        "OSCAR",
        "OSEA",
        "PAT",
        "PAULA",
        "PERCY",
        "POLA",
        "PREMA",
        "RAE",
        "RAJA",
        "RENE",
        "REUBEN",
        "RON",
        "SALLY",
        "SARAH",
        "SHEILA",
        "SINA",
        "SUSAN",
        "TAM",
        "THOMAS:TOMAS",
        "TOMAS",
        "TOMASI",
        "TUI",
        "TUNI",
        "TUSI",
        "ULA",
        "UMA:VELI",
        "URMIL",
        "VAIANU",
        "VAL",
        "VELI",
        "VICTOR",
        "WAKA",
        "WATI",
        "WES",
        "WILLIAM",
        "WILMA",
        "WINI",
        "WINSTON",
        "YASI",
        "YOLANDE",
        "ZAKA",
        "ZENA",
        "ZITA",
        "ZOE",
        "ZUMAN"
       ],
       "description": "Cyclone name:  ",
       "index": 3,
       "layout": "IPY_MODEL_77619458c5244a4386e6c88a58d5656d",
       "style": "IPY_MODEL_4585062c46e940949918168df61f0c4f"
      }
     },
     "42985412afb048c7b1a9af6d72712687": {
      "model_module": "@jupyter-widgets/base",
      "model_module_version": "1.2.0",
      "model_name": "LayoutModel",
      "state": {}
     },
     "4585062c46e940949918168df61f0c4f": {
      "model_module": "@jupyter-widgets/controls",
      "model_module_version": "1.5.0",
      "model_name": "DescriptionStyleModel",
      "state": {
       "description_width": ""
      }
     },
     "4823d040bf854ca1bf5f7d8262bb1057": {
      "model_module": "@jupyter-widgets/base",
      "model_module_version": "1.2.0",
      "model_name": "LayoutModel",
      "state": {}
     },
     "7030d8ce8bd943939b441aa162d1146c": {
      "model_module": "@jupyter-widgets/output",
      "model_module_version": "1.0.0",
      "model_name": "OutputModel",
      "state": {
       "layout": "IPY_MODEL_4823d040bf854ca1bf5f7d8262bb1057"
      }
     },
     "77619458c5244a4386e6c88a58d5656d": {
      "model_module": "@jupyter-widgets/base",
      "model_module_version": "1.2.0",
      "model_name": "LayoutModel",
      "state": {}
     },
     "88610dc37e44485fbb3a07a40c10370e": {
      "model_module": "@jupyter-widgets/controls",
      "model_module_version": "1.5.0",
      "model_name": "DropdownModel",
      "state": {
       "_options_labels": [
        "2016"
       ],
       "description": "Season:  ",
       "index": 0,
       "layout": "IPY_MODEL_f5abd9bbbf644b4dad443ada1fed66d9",
       "style": "IPY_MODEL_f7fdb1822eb2493882b4581c62b7ddfa"
      }
     },
     "f5abd9bbbf644b4dad443ada1fed66d9": {
      "model_module": "@jupyter-widgets/base",
      "model_module_version": "1.2.0",
      "model_name": "LayoutModel",
      "state": {}
     },
     "f7fdb1822eb2493882b4581c62b7ddfa": {
      "model_module": "@jupyter-widgets/controls",
      "model_module_version": "1.5.0",
      "model_name": "DescriptionStyleModel",
      "state": {
       "description_width": ""
      }
     },
     "fb1929eaf1d84a4dbbf9b1d30392ddae": {
      "model_module": "@jupyter-widgets/controls",
      "model_module_version": "1.5.0",
      "model_name": "VBoxModel",
      "state": {
       "_dom_classes": [
        "widget-interact"
       ],
       "children": [
        "IPY_MODEL_11714313e4634bfb907b3aa346f9c807",
        "IPY_MODEL_88610dc37e44485fbb3a07a40c10370e",
        "IPY_MODEL_7030d8ce8bd943939b441aa162d1146c"
       ],
       "layout": "IPY_MODEL_42985412afb048c7b1a9af6d72712687"
      }
     }
    },
    "version_major": 2,
    "version_minor": 0
   }
  }
 },
 "nbformat": 4,
 "nbformat_minor": 4
}
