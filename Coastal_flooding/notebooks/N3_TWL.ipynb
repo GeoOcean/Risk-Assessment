{
 "cells": [
  {
   "cell_type": "markdown",
   "id": "a5c3364c-06c8-4718-9e6d-713f5a0e42c2",
   "metadata": {},
   "source": [
    "# **Total Water Level**"
   ]
  },
  {
   "cell_type": "code",
   "execution_count": null,
   "id": "5783ac7f-f16c-4e12-a2ed-f7cd2454d0dc",
   "metadata": {
    "tags": []
   },
   "outputs": [],
   "source": [
    "# common\n",
    "import sys\n",
    "import os\n",
    "import os.path as op\n",
    "\n",
    "# pip\n",
    "import pandas as pd\n",
    "import numpy as np\n",
    "import matplotlib\n",
    "import plotly.express as px\n",
    "\n",
    "sys.path.insert(0, op.join(os.getcwd(), '..' ,'..'))\n",
    "\n",
    "from lib.config import *\n",
    "from lib.snell_propagation import * \n"
   ]
  },
  {
   "cell_type": "code",
   "execution_count": null,
   "id": "eebb05b5",
   "metadata": {
    "tags": []
   },
   "outputs": [],
   "source": [
    "ID_wave = 1139\n",
    "ID_sea_level = 'Samoa'"
   ]
  },
  {
   "cell_type": "code",
   "execution_count": null,
   "id": "d3e8664d",
   "metadata": {
    "tags": []
   },
   "outputs": [],
   "source": [
    "p_storage = op.join(os.getcwd(), '..', 'storage')"
   ]
  },
  {
   "cell_type": "code",
   "execution_count": null,
   "id": "7b2c8ce1",
   "metadata": {
    "tags": []
   },
   "outputs": [],
   "source": [
    "waves = pd.read_csv(op.join(p_storage, 'Waves_{0}.csv'.format(ID_wave))).set_index('time')\n",
    "\n",
    "sea_level = pd.read_csv(op.join(p_storage, 'Sea_level_{0}.csv'.format(ID_sea_level)))"
   ]
  },
  {
   "cell_type": "markdown",
   "id": "d8426508-6098-442c-b0e4-6e949e742c69",
   "metadata": {},
   "source": [
    "## **Wave Station Location**"
   ]
  },
  {
   "cell_type": "code",
   "execution_count": null,
   "id": "bd7fe111",
   "metadata": {
    "tags": []
   },
   "outputs": [],
   "source": [
    "# Add coordinates to visualize location of available stations\n",
    "lat, lon = [-13.6], [188.4]\n",
    "df_info = pd.DataFrame({'longitude': lon, 'latitude': lat, 'Info': ['HsTpDir']})  \n"
   ]
  },
  {
   "cell_type": "code",
   "execution_count": null,
   "id": "d4473845-1e44-4319-b5fc-c947fcb6b208",
   "metadata": {
    "tags": []
   },
   "outputs": [],
   "source": [
    "fig = px.scatter_mapbox(df_info, \n",
    "                        lat=\"latitude\", lon=\"longitude\", hover_data={'Info'}, zoom=6)\n",
    "\n",
    "fig.update_layout(mapbox_style=\"stamen-terrain\", width=800, height=400,\n",
    "                  margin={\"r\":0,\"t\":0,\"l\":0,\"b\":0},\n",
    "                  showlegend=True,)\n",
    "fig.show()"
   ]
  },
  {
   "cell_type": "markdown",
   "id": "4b2f89cc",
   "metadata": {},
   "source": [
    "## **Total Water Level Calculation**"
   ]
  },
  {
   "cell_type": "markdown",
   "id": "1151c2e9",
   "metadata": {},
   "source": [
    "$TWL = AT + SS + R2$<br>\n",
    "\n",
    "Runup formula for dissipative beaches (Stockdon et al, 2006)<br>\n",
    "$R2 = 0.043 \\cdot \\sqrt{H_{s} \\cdot L_{0}}$<br>\n",
    "\n",
    "where $L_{0}=\\frac{g}{2\\cdot \\pi}\\cdot T_{m}^{2}$<br>\n",
    "\n",
    "$T_{m}=0.7 \\cdot T_{p}$"
   ]
  },
  {
   "cell_type": "markdown",
   "id": "48c03ce9-581b-4ec2-a543-c0da55480d51",
   "metadata": {},
   "source": [
    "### **Find common period of Waves and Sea Level information**"
   ]
  },
  {
   "cell_type": "code",
   "execution_count": null,
   "id": "9329a9b3-7260-4190-949d-14067981bcc9",
   "metadata": {
    "tags": []
   },
   "outputs": [],
   "source": [
    "idx, com_waves, com_sealevel = np.intersect1d(waves.index.dropna(), sea_level.dropna()['Date'].values, return_indices=True)\n",
    "waves = waves.loc[idx]\n",
    "sea_level = sea_level.set_index(['Date']).loc[idx]"
   ]
  },
  {
   "cell_type": "markdown",
   "id": "821a00d5-312e-4df7-a2e3-3814d99bf63a",
   "metadata": {},
   "source": [
    "### **Downscale Hs to obtain Wave Runup**"
   ]
  },
  {
   "cell_type": "markdown",
   "id": "d9ff5236-428b-493b-9fe7-b1b2292c32ca",
   "metadata": {},
   "source": [
    "<span style=\"font-family: times, Optima; font-size:11pt; color:black;\">\n",
    "To simplify the downscaling of offshore waves to the coast, we assume straight and parallel bathymetry and apply the Snell's law.\n",
    "    <span>"
   ]
  },
  {
   "cell_type": "markdown",
   "id": "77e34786-a42d-40e2-b950-d753f6520598",
   "metadata": {},
   "source": [
    "`Deep Water Waves`"
   ]
  },
  {
   "cell_type": "code",
   "execution_count": null,
   "id": "50379ef3-2e8c-4825-b81b-430f4f14ffd2",
   "metadata": {
    "tags": []
   },
   "outputs": [],
   "source": [
    "bathy_orientation = 20                      # degress North\n",
    "min_range, max_range = 110, 290\n",
    "h0 = 1000                                   # offshore depth  \n",
    "h1 = 10                                     # nearshore depth  \n",
    "g = 9.81"
   ]
  },
  {
   "cell_type": "code",
   "execution_count": null,
   "id": "c3636357-b407-41e2-947e-4fa8b746efa9",
   "metadata": {
    "tags": []
   },
   "outputs": [],
   "source": [
    "waves"
   ]
  },
  {
   "cell_type": "code",
   "execution_count": null,
   "id": "1dddc34f-d38e-4e6a-8abf-88b1fd1f9351",
   "metadata": {
    "tags": []
   },
   "outputs": [],
   "source": [
    "waves.loc[(waves['dir'].values > min_range) & (waves['dir'].values < max_range), 'hs'] = 0 "
   ]
  },
  {
   "cell_type": "code",
   "execution_count": null,
   "id": "9581516a-e675-4065-af08-9cd3dc6aff05",
   "metadata": {
    "tags": []
   },
   "outputs": [],
   "source": [
    "waves['theta_0'] = np.zeros(len(waves))\n",
    "waves['theta_0'] = np.where((waves['dir'] > bathy_orientation) & (waves['dir'] < min_range), waves['dir'] - bathy_orientation, waves['theta_0'])\n",
    "waves['theta_0'] = np.where(waves['dir'] < bathy_orientation, bathy_orientation - waves['dir'], waves['theta_0'])\n",
    "waves['theta_0'] = np.where(waves['dir'] > max_range, 360 - waves['dir'] + bathy_orientation, waves['theta_0'])"
   ]
  },
  {
   "cell_type": "code",
   "execution_count": null,
   "id": "f12bb42d-1e4d-4f41-9add-2691bbdb8b99",
   "metadata": {
    "tags": []
   },
   "outputs": [],
   "source": [
    "H0 = waves['hs']\n",
    "T = waves['tp']\n",
    "theta_0 = waves['theta_0']"
   ]
  },
  {
   "cell_type": "markdown",
   "id": "6b4b5c46-1d39-4c1e-aab2-971d68b6f1fc",
   "metadata": {},
   "source": [
    "`Shallow Water Waves`"
   ]
  },
  {
   "cell_type": "code",
   "execution_count": null,
   "id": "5f32cae7-7746-4310-815d-b7b334f52afc",
   "metadata": {
    "tags": []
   },
   "outputs": [],
   "source": [
    "out0 = np.array([waves_dispersion(T[i], h0) for i in range(len(T))])\n",
    "L0, k0, C0 = out0[:,0], out0[:,1], out0[:,2]\n",
    "Cg0 = 0.5 * C0\n",
    "\n",
    "out1 = np.array([waves_dispersion(T[i], h1) for i in range(len(T))])\n",
    "L1, k1, C1 = out1[:,0], out1[:,1], out1[:,2]\n",
    "Cg1 = cg(L1, T, h1)\n",
    "\n",
    "theta_1 = theta(C0, C1, theta_0)\n"
   ]
  },
  {
   "cell_type": "code",
   "execution_count": null,
   "id": "ffe8919b-a023-4c84-94d9-9e9a05f0361d",
   "metadata": {
    "tags": []
   },
   "outputs": [],
   "source": [
    "H1 = H0 * Ks(Cg0, Cg1) * Kr(theta_0, theta_1)\n",
    "\n",
    "# Breaking Condition\n",
    "Hb = 0.8 * h1\n",
    "\n",
    "# Goda Breaking Condition\n",
    "m = 0.01\n",
    "mask_Goda = Goda(L0, h1, m)\n",
    "\n",
    "H1_Goda = H1.where(H1 < mask_Goda, np.nan)\n",
    "H1 = H1.where(H1 < Hb, np.nan)"
   ]
  },
  {
   "cell_type": "markdown",
   "id": "35405f5c",
   "metadata": {},
   "source": [
    "### Calculate Total Water Level"
   ]
  },
  {
   "cell_type": "code",
   "execution_count": null,
   "id": "bea8eaac-6ae1-4952-9a91-16a09fc20956",
   "metadata": {
    "tags": []
   },
   "outputs": [],
   "source": [
    "waves['hs'] = H1_Goda\n",
    "waves['tm'] = waves['tp'] * 0.7\n",
    "waves['L0'] = (9.806 / 2 * np.pi)  * waves['tm']**2\n",
    "waves['TWL'] =  sea_level['Sea level'] + 0.043 * np.sqrt(H1 * L1)\n",
    "waves['sea_level'] = sea_level['Sea level']"
   ]
  },
  {
   "cell_type": "code",
   "execution_count": null,
   "id": "66307db9",
   "metadata": {
    "tags": []
   },
   "outputs": [],
   "source": [
    "#%matplotlib\n",
    "waves[['sea_level', 'hs', 'tp', 'dir', 'TWL']].plot(\n",
    "    figsize=(17,8),\n",
    "    style=['-','-', '-', '.'],\n",
    "    ms=2,\n",
    "    color=[colors[0],colors[1],colors[2],colors[3]],\n",
    "    subplots=True, \n",
    "    layout=(5,1),\n",
    ")\n",
    "plt.show()"
   ]
  },
  {
   "cell_type": "markdown",
   "id": "406ee2e4",
   "metadata": {},
   "source": [
    "## Storage daily series of TWL in station"
   ]
  },
  {
   "cell_type": "code",
   "execution_count": null,
   "id": "97d9073e",
   "metadata": {
    "tags": []
   },
   "outputs": [],
   "source": [
    "# storage .csv\n",
    "waves.to_csv(op.join(p_storage, 'TWL_{0}.csv'.format(ID_wave)))"
   ]
  },
  {
   "cell_type": "code",
   "execution_count": null,
   "id": "0f342955",
   "metadata": {},
   "outputs": [],
   "source": []
  }
 ],
 "metadata": {
  "kernelspec": {
   "display_name": "Python 3 (ipykernel)",
   "language": "python",
   "name": "python3"
  },
  "language_info": {
   "codemirror_mode": {
    "name": "ipython",
    "version": 3
   },
   "file_extension": ".py",
   "mimetype": "text/x-python",
   "name": "python",
   "nbconvert_exporter": "python",
   "pygments_lexer": "ipython3",
   "version": "3.8.16"
  },
  "toc-autonumbering": true,
  "widgets": {
   "application/vnd.jupyter.widget-state+json": {
    "state": {},
    "version_major": 2,
    "version_minor": 0
   }
  }
 },
 "nbformat": 4,
 "nbformat_minor": 5
}
