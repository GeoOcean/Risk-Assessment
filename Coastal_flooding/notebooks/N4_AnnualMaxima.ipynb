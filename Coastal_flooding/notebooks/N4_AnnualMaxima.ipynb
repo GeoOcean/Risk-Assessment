{
 "cells": [
  {
   "cell_type": "markdown",
   "id": "fuzzy-needle",
   "metadata": {
    "tags": []
   },
   "source": [
    "# **Statistical Analysis of Extreme Events**\n",
    "# Annual Maxima - Generalized Extreme Values distribution"
   ]
  },
  {
   "cell_type": "code",
   "execution_count": null,
   "id": "usual-insurance",
   "metadata": {},
   "outputs": [],
   "source": [
    "import os\n",
    "import os.path as op\n",
    "import sys\n",
    "\n",
    "# basic import\n",
    "import pandas as pd\n",
    "import xarray as xr\n",
    "import numpy as np\n",
    "import datetime\n",
    "\n",
    "# plotting library\n",
    "import matplotlib.pyplot as plt\n",
    "import plotly.graph_objects as go\n",
    "import plotly.express as px\n",
    "import plotly.figure_factory as ff\n",
    "from IPython.display import HTML\n",
    "\n",
    "# distributions\n",
    "import scipy\n",
    "from scipy.stats import gumbel_l, genextreme, gumbel_r\n",
    "from numpy.random import multivariate_normal\n",
    "\n",
    "# append ddviewer to path\n",
    "sys.path.insert(0, op.join(os.getcwd(), '..','..'))\n",
    "\n",
    "from lib.extremes import *\n",
    "from lib.config import *"
   ]
  },
  {
   "cell_type": "code",
   "execution_count": null,
   "id": "92714331-570e-450c-abef-ef72aff7a162",
   "metadata": {},
   "outputs": [],
   "source": [
    "from IPython.display import Image\n",
    "Image(url='../../lib/resources/GEV.png', width=700)"
   ]
  },
  {
   "cell_type": "markdown",
   "id": "classified-longitude",
   "metadata": {},
   "source": [
    "## **Load input database** <a class=\"anchor\" id=\"1\"></a>"
   ]
  },
  {
   "cell_type": "code",
   "execution_count": null,
   "id": "quarterly-composite",
   "metadata": {},
   "outputs": [],
   "source": [
    "# Load database (.csv)\n",
    "path = op.join(os.getcwd(), '..','storage')\n",
    "file = 'TWL_1139.csv'"
   ]
  },
  {
   "cell_type": "code",
   "execution_count": null,
   "id": "liked-grill",
   "metadata": {},
   "outputs": [],
   "source": [
    "data = pd.read_csv(\n",
    "    op.join(path, file), parse_dates=['time']\n",
    ")\n",
    "data = data.set_index('time').dropna()"
   ]
  },
  {
   "cell_type": "markdown",
   "id": "arbitrary-safety",
   "metadata": {},
   "source": [
    "## **Data visualization** <a class=\"anchor\" id=\"2\"></a>"
   ]
  },
  {
   "cell_type": "code",
   "execution_count": null,
   "id": "attractive-lodging",
   "metadata": {},
   "outputs": [],
   "source": [
    "var = 'TWL'\n",
    "data = data[[var]]\n",
    "\n",
    "data['year'] = data.index.year\n",
    "data['month'] = data.index.month\n",
    "data['day'] = data.index.day"
   ]
  },
  {
   "cell_type": "markdown",
   "id": "raising-scholarship",
   "metadata": {},
   "source": [
    "### Box-plot of monthly data <a class=\"anchor\" id=\"21\"></a>"
   ]
  },
  {
   "cell_type": "code",
   "execution_count": null,
   "id": "incident-hungarian",
   "metadata": {},
   "outputs": [],
   "source": [
    "# Use plotly library for plotting boxplot\n",
    "fig = px.box(data, x=\"month\", y=var, notched=True)\n",
    "fig.show()"
   ]
  },
  {
   "cell_type": "markdown",
   "id": "younger-fluid",
   "metadata": {},
   "source": [
    "### Monthly maxima <a class=\"anchor\" id=\"22\"></a>"
   ]
  },
  {
   "cell_type": "code",
   "execution_count": null,
   "id": "material-august",
   "metadata": {},
   "outputs": [],
   "source": [
    "df_mm = data.groupby(by=['year','month'])[var].max().dropna().reset_index()\n",
    "df_mm = pd.merge(df_mm, data, how='inner', on=['year', 'month', var])\n",
    "df_mm['date'] = pd.to_datetime(df_mm[['year', 'month', 'day']], errors='coerce')\n",
    "df_mm = df_mm.set_index('date')"
   ]
  },
  {
   "cell_type": "code",
   "execution_count": null,
   "id": "placed-biography",
   "metadata": {},
   "outputs": [],
   "source": [
    "fig = px.line(df_mm[var], width=1200, height=400)\n",
    "fig.show()"
   ]
  },
  {
   "cell_type": "markdown",
   "id": "bound-polish",
   "metadata": {},
   "source": [
    "## **Fit Historical Annual Maxima to GEV distribution** <a class=\"anchor\" id=\"3\"></a>"
   ]
  },
  {
   "cell_type": "markdown",
   "id": "154c4ae9",
   "metadata": {},
   "source": [
    "### Eliminate years with incomplete months"
   ]
  },
  {
   "cell_type": "code",
   "execution_count": null,
   "id": "fdf4bce5",
   "metadata": {},
   "outputs": [],
   "source": [
    "data['day_id'] = 1\n",
    "data_few = data.groupby('year').sum().reset_index()\n",
    "data_few = data_few.loc[data_few['day_id'] > 300]"
   ]
  },
  {
   "cell_type": "code",
   "execution_count": null,
   "id": "d194a3c3",
   "metadata": {},
   "outputs": [],
   "source": [
    "data = data[data['year'].isin(data_few['year'].values)]"
   ]
  },
  {
   "cell_type": "markdown",
   "id": "color-algebra",
   "metadata": {},
   "source": [
    "### Calculate Annual Maxima "
   ]
  },
  {
   "cell_type": "code",
   "execution_count": null,
   "id": "cheap-terrorist",
   "metadata": {},
   "outputs": [],
   "source": [
    "# Calculate Annual Maxima with pandas groupby and agg functions\n",
    "pmax = data.groupby(by=[data.index.year]).agg(\n",
    "    Fmax = (var, lambda data: data.idxmax()),\n",
    "    Amax = (var, lambda data: data.max())\n",
    ")\n",
    "pmax.set_index('Fmax', inplace=True)"
   ]
  },
  {
   "cell_type": "code",
   "execution_count": null,
   "id": "median-tampa",
   "metadata": {},
   "outputs": [],
   "source": [
    "# Plot Annual Maxima time series\n",
    "fig = go.Figure()\n",
    "fig.add_trace(\n",
    "    go.Scatter(\n",
    "        x = data.index, y = data[var],\n",
    "        mode ='lines', name = 'Historical',\n",
    "    )\n",
    ")\n",
    "fig.add_trace(\n",
    "    go.Scatter(\n",
    "        x = pmax.index, y = pmax['Amax'],\n",
    "        mode ='markers', name = 'Annual Maxima',\n",
    "    )\n",
    ")\n",
    "fig.update_layout(    \n",
    "    xaxis_title = \"time\",\n",
    "    yaxis_title = var,\n",
    "    yaxis=dict(rangemode='nonnegative')\n",
    ")\n",
    "fig.show()"
   ]
  },
  {
   "cell_type": "markdown",
   "id": "alert-tension",
   "metadata": {},
   "source": [
    "### Fit Annual Maxima to Generalized Extreme Value <a class=\"anchor\" id=\"32\"></a>"
   ]
  },
  {
   "cell_type": "markdown",
   "id": "confident-ivory",
   "metadata": {},
   "source": [
    "<a href=\"https://docs.scipy.org/doc/scipy/reference/generated/scipy.stats.genextreme.html\">scipy.stats.genextreme</a>"
   ]
  },
  {
   "cell_type": "code",
   "execution_count": null,
   "id": "twenty-research",
   "metadata": {},
   "outputs": [],
   "source": [
    "shape, loc, scale = genextreme.fit(pmax.values)\n",
    "print('shape: {0:.3f} \\nloc: {1:.3f} \\nscale: {2:.3f}'.format(shape, loc, scale))\n",
    "\n",
    "# negative loglikelihood\n",
    "nLogL = genextreme.nnlf((shape, loc, scale), pmax)\n",
    "\n",
    "# GEV parameters\n",
    "theta = (shape, loc, scale)\n",
    "\n",
    "# freeze GEV with parameters, get GEV PDF\n",
    "rv = genextreme(shape, loc, scale)  \n",
    "x = np.linspace(rv.ppf(0.001), rv.ppf(0.999), 1000)\n",
    "y = rv.pdf(x)"
   ]
  },
  {
   "cell_type": "code",
   "execution_count": null,
   "id": "recovered-windows",
   "metadata": {},
   "outputs": [],
   "source": [
    "# plot GEV pdf vs simulated data\n",
    "fig = go.Figure()\n",
    "fig.add_trace(go.Scatter(x=x, y=y, mode='lines', name='PDF', marker_color='black'))\n",
    "fig.add_trace(go.Histogram(x=pmax['Amax'].values, nbinsx = 40, histnorm='probability density', name='Historical'))\n",
    "\n",
    "fig.update_layout(    \n",
    "    xaxis_title = \"x\",\n",
    "    yaxis_title = \"P(x)\",\n",
    "    title = 'GEV Probability Density Function',\n",
    "    yaxis=dict(rangemode='nonnegative')\n",
    ")\n",
    "fig.show()"
   ]
  },
  {
   "cell_type": "markdown",
   "id": "lonely-composer",
   "metadata": {},
   "source": [
    "### GEV-fit quality for historical values  <a class=\"anchor\" id=\"33\"></a>"
   ]
  },
  {
   "cell_type": "markdown",
   "id": "cc4b277d-96fa-4e48-a246-3da843a0f435",
   "metadata": {
    "tags": []
   },
   "source": [
    "<span style=\"font-family: times, Optima; font-size:11pt; color:black;\">\n",
    "Generating a probability plot of sample data against the quantiles of a specified theoretical distribution will inform about the quality of the fit. <a href=\"https://docs.scipy.org/doc/scipy/reference/generated/scipy.stats.probplot.html\">scipy.stats.probplot<span"
   ]
  },
  {
   "cell_type": "code",
   "execution_count": null,
   "id": "challenging-fishing",
   "metadata": {},
   "outputs": [],
   "source": [
    "res = scipy.stats.probplot(x=pmax['Amax'].values, dist=scipy.stats.genextreme, fit=True, sparams=theta)"
   ]
  },
  {
   "cell_type": "code",
   "execution_count": null,
   "id": "surprised-brother",
   "metadata": {},
   "outputs": [],
   "source": [
    "# plot GEV pdf vs simulated data\n",
    "fig = go.Figure()\n",
    "fig.add_trace(go.Scatter(x=res[0][0], y=res[0][1], mode='markers', marker_color='black'))\n",
    "fig.add_trace(go.Scatter(x=[0, np.max(res[0][0])], y=[res[1][1], res[1][1]+res[1][0]*np.max(res[0][0])], mode='lines', marker_color='red'))\n",
    "\n",
    "fig.update_xaxes(range=[np.min(res[0][0])-0.1, np.max(res[0][0])+0.1])\n",
    "fig.update_yaxes(range=[np.min(res[0][1])-0.1, np.max(res[0][1])+0.1])\n",
    "\n",
    "fig.update_layout(  \n",
    "    width=600, height=600,\n",
    "    showlegend=False,\n",
    "    xaxis_title = \"Theoretical quantiles\",\n",
    "    yaxis_title = \"Ordered values\",\n",
    "    title = 'Probplot for GEV distribution',\n",
    "    yaxis=dict(rangemode='nonnegative')\n",
    ")\n",
    "fig.show()"
   ]
  },
  {
   "cell_type": "markdown",
   "id": "japanese-improvement",
   "metadata": {},
   "source": [
    "### Simulate extreme values from GEV distribution <a class=\"anchor\" id=\"34\"></a>"
   ]
  },
  {
   "cell_type": "markdown",
   "id": "55fae78d-47ef-46ec-849b-209184f24cbb",
   "metadata": {
    "tags": []
   },
   "source": [
    "<span style=\"font-family: times, Optima; font-size:11pt; color:black;\">\n",
    "If the sample size of annual maxima is not enought to characterize the extreme regime, a simulated sample of extreme events can be generated by freezing the shape, loc, and scale parameters.\n",
    "    <span>\n"
   ]
  },
  {
   "cell_type": "code",
   "execution_count": null,
   "id": "medium-concentration",
   "metadata": {},
   "outputs": [],
   "source": [
    "# simulate some values for this GEV\n",
    "size_sim = 1000\n",
    "var_sim = genextreme.rvs(shape, loc, scale, size=size_sim)\n",
    "\n",
    "# plot GEV pdf vs simulated data\n",
    "fig = go.Figure()\n",
    "fig.add_trace(go.Scatter(x=x, y=y, mode='lines', name='PDF', marker_color='black'))\n",
    "fig.add_trace(go.Histogram(x=var_sim, nbinsx = 60, histnorm='probability density', name='Simulation'))\n",
    "\n",
    "fig.update_layout(    \n",
    "    xaxis_title = \"x\",\n",
    "    yaxis_title = \"P(x)\",\n",
    "    title = 'GEV Probability Density Function',\n",
    "    yaxis=dict(rangemode='nonnegative')\n",
    ")\n",
    "fig.show()"
   ]
  },
  {
   "cell_type": "markdown",
   "id": "lucky-rabbit",
   "metadata": {},
   "source": [
    "### Historical-Simulated quantiles <a class=\"anchor\" id=\"35\"></a>"
   ]
  },
  {
   "cell_type": "code",
   "execution_count": null,
   "id": "cardiac-hundred",
   "metadata": {},
   "outputs": [],
   "source": [
    "x_quantiles, y_quantiles = qqplot(pmax['Amax'].values, var_sim, quantiles=100, interpolation='nearest',)"
   ]
  },
  {
   "cell_type": "code",
   "execution_count": null,
   "id": "supposed-equivalent",
   "metadata": {},
   "outputs": [],
   "source": [
    "# plot GEV pdf vs simulated data\n",
    "fig = go.Figure()\n",
    "fig.add_trace(go.Scatter(x=x_quantiles, y=y_quantiles, mode='markers', marker_color='black'))\n",
    "fig.add_trace(go.Scatter(x=[np.min([x_quantiles.min(), y_quantiles.min()]), np.max([x_quantiles.max(), y_quantiles.max()])], \n",
    "                         y=[np.min([x_quantiles.min(), y_quantiles.min()]), np.max([x_quantiles.max(), y_quantiles.max()])], \n",
    "                         mode='lines', marker_color='red'))\n",
    "\n",
    "fig.update_layout(  \n",
    "    width=600, height=600,\n",
    "    showlegend=False,\n",
    "    xaxis_title = \"Historical\",\n",
    "    yaxis_title = \"Simulated GEV values\",\n",
    "    title = 'QQ plot historical-simulated values',\n",
    "    yaxis=dict(rangemode='nonnegative')\n",
    ")\n",
    "fig.show()"
   ]
  },
  {
   "cell_type": "markdown",
   "id": "defined-external",
   "metadata": {},
   "source": [
    "## **Simulate GEV parameters** <a class=\"anchor\" id=\"33\"></a>"
   ]
  },
  {
   "cell_type": "markdown",
   "id": "fb823aac-e97a-4034-8666-356400ee5c4c",
   "metadata": {
    "tags": []
   },
   "source": [
    "<span style=\"font-family: times, Optima; font-size:11pt; color:black;\">\n",
    "    Including uncertainty of shape, loc and scale parameters<br>\n",
    "The Fisher information matrix is used to calculate the covariance matrices associated with maximum-likelihood estimates. The square root of the diagonal elements are the standard deviations of the point estimators.<span"
   ]
  },
  {
   "cell_type": "code",
   "execution_count": null,
   "id": "linear-secretariat",
   "metadata": {},
   "outputs": [],
   "source": [
    "# number of GEV simulations\n",
    "n_sims = 1000\n",
    "\n",
    "# GEV Loglikelihood function covariance\n",
    "acov = ACOV(genextreme.nnlf, theta, pmax)\n",
    "\n",
    "# GEV params used for multivar. normal random generation\n",
    "theta_gen = np.array(theta)\n",
    "theta_sim = multivariate_normal(theta_gen, acov, n_sims)\n"
   ]
  },
  {
   "cell_type": "code",
   "execution_count": null,
   "id": "horizontal-australia",
   "metadata": {},
   "outputs": [],
   "source": [
    "theta_gen"
   ]
  },
  {
   "cell_type": "code",
   "execution_count": null,
   "id": "superior-accused",
   "metadata": {},
   "outputs": [],
   "source": [
    "theta_sim"
   ]
  },
  {
   "cell_type": "code",
   "execution_count": null,
   "id": "baking-relative",
   "metadata": {},
   "outputs": [],
   "source": [
    "df_theta = pd.DataFrame({\n",
    "    'shape':list(theta_sim[:,0]) + [theta[0]],\n",
    "    'loc':list(theta_sim[:,1]) + [theta[1]],\n",
    "    'scale':list(theta_sim[:,2]) + [theta[2]],\n",
    "    'gen': list(np.tile('sim', len(theta_sim[:,0]))) + ['gen'],\n",
    "    'color':list(np.zeros(len(theta_sim[:,0]))) + [1],\n",
    "    'alpha':list(np.ones(len(theta_sim[:,0]))*0.7) + [1],\n",
    "})\n",
    "\n",
    "# plot 3D simulated GEV distribution\n",
    "fig = px.scatter_3d(df_theta, x='shape', y='loc', z='scale',\n",
    "              color='gen', opacity=0.7)\n",
    "fig.update_layout(   \n",
    "    width=1000,\n",
    "    height=600,\n",
    "    title = 'Simulated GEV parameters',\n",
    ")\n",
    "fig.update_traces(marker=dict(size=4))\n",
    "fig.show()"
   ]
  },
  {
   "cell_type": "code",
   "execution_count": null,
   "id": "tested-rotation",
   "metadata": {},
   "outputs": [],
   "source": [
    "# plot 2D simulated GEV distribution\n",
    "fig = go.Figure(\n",
    "    data = go.Splom(\n",
    "        dimensions=[\n",
    "            dict(label = 'Shape', values = df_theta['shape']),\n",
    "            dict(label = 'Location', values = df_theta['loc']),\n",
    "            dict(label = 'Scale', values = df_theta['scale']),\n",
    "\n",
    "        ],\n",
    "        marker = dict(\n",
    "                color = df_theta['color'],\n",
    "                colorscale=['#636EFA', '#ff7f0e'],\n",
    "                opacity=df_theta['alpha']),\n",
    "        diagonal_visible = False,\n",
    "        showupperhalf = False,\n",
    "    )\n",
    ")\n",
    "fig.update_layout(\n",
    "    title='Simulated GEV Parameters',\n",
    "    width=700,\n",
    "    height=700,\n",
    ")\n",
    "fig.show()"
   ]
  },
  {
   "cell_type": "code",
   "execution_count": null,
   "id": "rotary-development",
   "metadata": {},
   "outputs": [],
   "source": [
    "# scatter-plot matrix\n",
    "fig = ff.create_scatterplotmatrix(\n",
    "    df_theta[['shape', 'loc', 'scale', 'color']], \n",
    "    index='color',\n",
    "    diag='histogram',\n",
    "    colormap='Blues', \n",
    "    colormap_type='seq',\n",
    "    height=800, width=800\n",
    ")\n",
    "\n",
    "fig.update_traces(marker_showscale=False)\n",
    "fig.show()"
   ]
  },
  {
   "cell_type": "markdown",
   "id": "joint-showcase",
   "metadata": {},
   "source": [
    "### **Uncertainty of shape parameter**"
   ]
  },
  {
   "cell_type": "markdown",
   "id": "c372f8a0-9b1f-4803-a3fb-a5199ae06384",
   "metadata": {},
   "source": [
    "<span style=\"font-family: times, Optima; font-size:11pt; color:black;\">\n",
    "<div class=\"alert alert-block alert-info\"><b>Gumbel Distribution: </b> If the 95% confidence interval of the shape parameter includes the 0, the shape parameter is not significant and the distribution can be defined as a Gumbel distribution </div><span"
   ]
  },
  {
   "cell_type": "code",
   "execution_count": null,
   "id": "genetic-french",
   "metadata": {},
   "outputs": [],
   "source": [
    "# Monte Carlo (95% confidence interval)\n",
    "[np.percentile(theta_sim[:,0], 2.5), np.percentile(theta_sim[:,0], 97.5)]"
   ]
  },
  {
   "cell_type": "markdown",
   "id": "a9cc4b20-d3ea-43cd-b0db-619b036b59f5",
   "metadata": {},
   "source": [
    "<span style=\"font-family: times, Optima; font-size:11pt; color:black;\">\n",
    "To obtain the confidence interval linked to each estimator, based on the normality property of the maximum-likelihood estimators, the confidence interval at the level (1-α) is calculated as follows:<span"
   ]
  },
  {
   "cell_type": "code",
   "execution_count": null,
   "id": "light-muslim",
   "metadata": {},
   "outputs": [],
   "source": [
    "# analytically (1.96 -> (1-α) quantile of the standard normal distribution with α=95%)\n",
    "[theta[0] - 1.96 * np.sqrt(acov[0,0]), theta[0] + 1.96 * np.sqrt(acov[0,0])]"
   ]
  },
  {
   "cell_type": "markdown",
   "id": "coral-disclaimer",
   "metadata": {},
   "source": [
    "## **Simulate extreme values by considering the simulated GEV parameters**"
   ]
  },
  {
   "cell_type": "markdown",
   "id": "military-piece",
   "metadata": {},
   "source": [
    "### Use simulated GEVs to generate Annual Maxima "
   ]
  },
  {
   "cell_type": "code",
   "execution_count": null,
   "id": "original-graphics",
   "metadata": {},
   "outputs": [],
   "source": [
    "years_sim = 100  # years to simulate\n",
    "\n",
    "# use simulated GEVs\n",
    "var_sim = np.zeros((theta_sim.shape[0], years_sim))*np.nan  # initialize output numpy array\n",
    "for c, ts in enumerate(theta_sim):\n",
    "    var_sim[c,:] = genextreme.rvs(*ts, size=years_sim)\n",
    "\n",
    "# generate a time array for simulated data\n",
    "time_sim = np.arange('1970-10-01', '{0}-10-01'.format(1970+years_sim), dtype='datetime64[Y]')\n"
   ]
  },
  {
   "cell_type": "markdown",
   "id": "recreational-crystal",
   "metadata": {},
   "source": [
    "### Plot Return Period "
   ]
  },
  {
   "cell_type": "code",
   "execution_count": null,
   "id": "promising-ceramic",
   "metadata": {},
   "outputs": [],
   "source": [
    "# historical rp time and sorted annual maxima\n",
    "trp_hist = t_rp(pmax.index)\n",
    "trp_hist_val = np.sort(pmax['Amax'])\n",
    "\n",
    "# simulation rp time and sorted annual maxima\n",
    "trp_sim = t_rp(time_sim)\n",
    "trp_sim_val = np.sort(var_sim)\n",
    "\n",
    "# calculate simulation maxima percentiles\n",
    "p95 = np.percentile(trp_sim_val, 100-5/2.0, axis=0,)\n",
    "p50 = np.percentile(trp_sim_val, 50, axis=0,)\n",
    "p05 = np.percentile(trp_sim_val, 5/2.0, axis=0,)\n"
   ]
  },
  {
   "cell_type": "code",
   "execution_count": null,
   "id": "painful-meditation",
   "metadata": {},
   "outputs": [],
   "source": [
    "# Plot return period\n",
    "\n",
    "fig = go.Figure()\n",
    "fig.add_trace(go.Scatter(x=trp_sim, y=p95, mode='lines', name='P95', marker_color='mediumturquoise'))\n",
    "fig.add_trace(go.Scatter(x=trp_sim, y=p05, mode='lines', name='P05', marker_color='mediumturquoise',  fill='tonexty', fillcolor='rgba(0, 181, 204, 0.10)'))\n",
    "fig.add_trace(go.Scatter(x=trp_sim, y=p50, mode='lines', name='P50', marker_color='black'))\n",
    "fig.add_trace(go.Scatter(x=trp_hist, y=trp_hist_val, mode='markers', name='Hist', marker_color='red'))\n",
    "\n",
    "fig.update_xaxes(type=\"log\")\n",
    "fig.update_layout(    \n",
    "    xaxis_title = \"Return Period (years)\",\n",
    "    yaxis_title = var,\n",
    "    title = 'Annual Maxima',\n",
    "    width=400*2.5, height=300*2.5\n",
    ")\n",
    "fig.show()"
   ]
  },
  {
   "cell_type": "markdown",
   "id": "distinct-auction",
   "metadata": {},
   "source": [
    "## **If the shape parameter is not significant, consider Gumbel distribution** <a class=\"anchor\" id=\"5\"></a>"
   ]
  },
  {
   "cell_type": "markdown",
   "id": "particular-upper",
   "metadata": {},
   "source": [
    "<a href=\"https://docs.scipy.org/doc/scipy/reference/generated/scipy.stats.gumbel_r.html\">scipy.stats.gumbel_r</a> "
   ]
  },
  {
   "cell_type": "code",
   "execution_count": null,
   "id": "greek-malpractice",
   "metadata": {},
   "outputs": [],
   "source": [
    "# fit data to GUMBEL\n",
    "c = 0 # shape parameter = 0 (Gumbel distribution)\n",
    "shape, loc, scale = genextreme.fit(pmax.values, f0=c)\n",
    "print('shape: {0:.3f} \\nloc: {1:.3f} \\nscale: {2:.3f}'.format(c, loc, scale))"
   ]
  },
  {
   "cell_type": "code",
   "execution_count": null,
   "id": "honey-institution",
   "metadata": {},
   "outputs": [],
   "source": [
    "# negative loglikelihood\n",
    "nLogL = genextreme.nnlf((shape, loc, scale), pmax)\n",
    "\n",
    "# GEV parameters\n",
    "theta = (shape, loc, scale)\n",
    "\n",
    "# freeze GEV with parameters, get GEV PDF\n",
    "rvg = genextreme(shape, loc, scale)  \n",
    "x = np.linspace(rvg.ppf(0.001), rvg.ppf(0.999), 1000)\n",
    "y = rvg.pdf(x)\n"
   ]
  },
  {
   "cell_type": "code",
   "execution_count": null,
   "id": "anonymous-elder",
   "metadata": {},
   "outputs": [],
   "source": [
    "# number of GEV simulations\n",
    "n_sims = 1000\n",
    "\n",
    "# GEV Loglikelihood function covariance\n",
    "acov = ACOV(gumbel_r.nnlf, theta, pmax)\n",
    "\n",
    "# GEV params used for multivar. normal random generation\n",
    "theta_gen = np.array(theta)\n",
    "theta_sim = multivariate_normal(theta_gen, acov, n_sims)\n"
   ]
  },
  {
   "cell_type": "code",
   "execution_count": null,
   "id": "obvious-championship",
   "metadata": {},
   "outputs": [],
   "source": [
    "years_sim = 100  # years of precipitation to simulate\n",
    "\n",
    "# use simulated GEVs\n",
    "var_sim = np.zeros((theta_sim.shape[0], years_sim))*np.nan  # initialize output numpy array\n",
    "for c, ts in enumerate(theta_sim):\n",
    "    var_sim[c,:] = genextreme.rvs(*ts, size=years_sim)\n",
    "\n",
    "# generate a time array for simulated data\n",
    "time_sim = np.arange('1970-10-01', '{0}-10-01'.format(1970+years_sim), dtype='datetime64[Y]')\n"
   ]
  },
  {
   "cell_type": "code",
   "execution_count": null,
   "id": "connected-representation",
   "metadata": {},
   "outputs": [],
   "source": [
    "# historical rp time and sorted annual maxima\n",
    "trp_hist = t_rp(pmax.index)\n",
    "trp_hist_val = np.sort(pmax['Amax'])\n",
    "\n",
    "# simulation rp time and sorted annual maxima\n",
    "trp_sim = t_rp(time_sim)\n",
    "trp_sim_val = np.sort(var_sim)\n",
    "\n",
    "# calculate simulation maxima percentiles\n",
    "p95 = np.percentile(trp_sim_val, 100-5/2.0, axis=0,)\n",
    "p50 = np.percentile(trp_sim_val, 50, axis=0,)\n",
    "p05 = np.percentile(trp_sim_val, 5/2.0, axis=0,)\n"
   ]
  },
  {
   "cell_type": "code",
   "execution_count": null,
   "id": "fifteen-jurisdiction",
   "metadata": {},
   "outputs": [],
   "source": [
    "# Plot return period\n",
    "\n",
    "fig = go.Figure()\n",
    "fig.add_trace(go.Scatter(x=trp_sim, y=p95, mode='lines', name='P95', marker_color='mediumturquoise'))\n",
    "fig.add_trace(go.Scatter(x=trp_sim, y=p05, mode='lines', name='P05', marker_color='mediumturquoise',  fill='tonexty', fillcolor='rgba(0, 181, 204, 0.10)'))\n",
    "fig.add_trace(go.Scatter(x=trp_sim, y=p50, mode='lines', name='P50', marker_color='black'))\n",
    "fig.add_trace(go.Scatter(x=trp_hist, y=trp_hist_val, mode='markers', name='Hist', marker_color='red'))\n",
    "\n",
    "fig.update_xaxes(type=\"log\")\n",
    "fig.update_layout(    \n",
    "    xaxis_title = \"Return Period (years)\",\n",
    "    yaxis_title = var,\n",
    "    title = 'Annual Maxima Gumbel Distribution',\n",
    "    width=400*2.5, height=300*2.5\n",
    ")\n",
    "fig.show()"
   ]
  },
  {
   "cell_type": "code",
   "execution_count": null,
   "id": "fifteen-dancing",
   "metadata": {},
   "outputs": [],
   "source": [
    "# simulate some values for this GEV\n",
    "size_sim = 1000\n",
    "var_sim = genextreme.rvs(shape, loc, scale, size=size_sim)\n",
    "\n",
    "# plot GEV pdf vs simulated data\n",
    "fig = go.Figure()\n",
    "fig.add_trace(go.Scatter(x=x, y=y, mode='lines', name='PDF', marker_color='black'))\n",
    "fig.add_trace(go.Histogram(x=var_sim, nbinsx = 60, histnorm='probability density', name='Simulation'))\n",
    "\n",
    "fig.update_layout(    \n",
    "    xaxis_title = \"x\",\n",
    "    yaxis_title = \"P(x)\",\n",
    "    title = 'GEV Probability Density Function',\n",
    "    yaxis=dict(rangemode='nonnegative')\n",
    ")\n",
    "fig.show()"
   ]
  },
  {
   "cell_type": "code",
   "execution_count": null,
   "id": "86c74500",
   "metadata": {},
   "outputs": [],
   "source": []
  }
 ],
 "metadata": {
  "kernelspec": {
   "display_name": "Python 3 (ipykernel)",
   "language": "python",
   "name": "python3"
  },
  "language_info": {
   "codemirror_mode": {
    "name": "ipython",
    "version": 3
   },
   "file_extension": ".py",
   "mimetype": "text/x-python",
   "name": "python",
   "nbconvert_exporter": "python",
   "pygments_lexer": "ipython3",
   "version": "3.8.13"
  },
  "widgets": {
   "application/vnd.jupyter.widget-state+json": {
    "state": {},
    "version_major": 2,
    "version_minor": 0
   }
  }
 },
 "nbformat": 4,
 "nbformat_minor": 5
}
