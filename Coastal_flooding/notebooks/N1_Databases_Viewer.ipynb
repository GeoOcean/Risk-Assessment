{
 "cells": [
  {
   "cell_type": "markdown",
   "id": "0d2928b5-66a0-4c62-bba4-1e03d0e42276",
   "metadata": {
    "tags": []
   },
   "source": [
    "# **Databases Viewer**"
   ]
  },
  {
   "cell_type": "markdown",
   "id": "d7d070e4-75bb-4011-a015-2ae751feb89c",
   "metadata": {
    "tags": []
   },
   "source": [
    "<span style=\"font-family: times, Optima; font-size:11pt; color:black;\">\n",
    "    \n",
    "This notebook serves as a viewer of the wind, wave and tidal databases available in Upolu and Tongatapu Islands:<br>\n",
    "\n",
    "**Sea level (m)** : The near-real-time sea level is downloaded in a bunch of tidal gauges all along the world, using the data provided by the UNESCO Intergovernmental Oceanographic Commission (IOC) at http://www.ioc-sealevelmonitoring.org/list.php?showall=a&output=general&order=country&dir=asc. The historical sea level (1992, 2021) is also downloaded from BOM (Bureau of Meteorology), available at a tide gauge facility (http://www.bom.gov.au/pacific/projects/pslm/index.shtml)<br>\n",
    "\n",
    "**Waves** : The significant wave heigh (Hs), peak period (Tp) and mean direction (Dir) are obtained from the CSIRO global wave hindcast CAWR (1979-2020) in a grid resolution of 0.4 x 0.4°.<br>\n",
    "\n",
    "**Wind** : Hourly Time-Series of wind from the NCEP Climate Forecast System Reanalysis (CFSR) with data information from January 1979 to December 2010.<br>\n",
    "\n",
    "**Precipitation** : Historical series of precipitation (mm/day) (1982-2019) from the CFS (Climate Forecast System)\n",
    "\n",
    "**Storm Surge** : A high resolution Storm Surge (m) dataset from the Coastal Dataset for the Evaluation of Climate Impact (CoDEC)\n",
    "\n",
    "<span>"
   ]
  },
  {
   "cell_type": "markdown",
   "id": "theoretical-booking",
   "metadata": {},
   "source": [
    "Table of contents:\n",
    "* [1. Load databases](#1)\n",
    "* [2. Location map](#2)\n",
    "* [3. Data visualization](#3)\n",
    "    * [3.1 Sea level](#31)\n",
    "        * [3.1.1 Near-real-time IOC](#311)\n",
    "        * [3.1.2 Historical BOM](#312)\n",
    "        * [3.1.3 Storage output data](#313)\n",
    "    * [3.2 Waves](#32)\n",
    "        * [3.2.1 Time series visualization of Station ID](#321)\n",
    "        * [3.2.2 Time frame animation](#322)\n",
    "        * [3.2.3 Storage output data](#323)\n",
    "    * [3.3 Wind](#32)\n",
    "        * [3.3.1 Time series visualization of Station ID](#331)\n",
    "        * [3.3.2 Time frame animation](#332)\n",
    "        * [3.3.3 Storage output data](#333)    \n",
    "    * [3.4 Precipitation](#332)\n",
    "        * [3.4.1 Time series visualization of Station ID](#341)\n",
    "        * [3.4.2 Time frame animation](#342)\n",
    "        * [3.4.3 Storage output data](#343)  \n",
    "    * [3.5 Storm Surge](#332)\n",
    "        * [3.5.1 Time series visualization of Station ID](#341)\n",
    "        * [3.5.2 Time frame animation](#342)\n",
    "        * [3.5.3 Storage output data](#343) \n",
    "<hr size=\"5\"/>"
   ]
  },
  {
   "cell_type": "code",
   "execution_count": null,
   "id": "static-coating",
   "metadata": {},
   "outputs": [],
   "source": [
    "import os\n",
    "import os.path as op\n",
    "import sys\n",
    "\n",
    "# basic import\n",
    "import pandas as pd\n",
    "import xarray as xr\n",
    "import numpy as np\n",
    "import datetime\n",
    "\n",
    "import matplotlib.pyplot as plt\n",
    "import plotly.graph_objects as go\n",
    "import plotly.express as px\n",
    "\n",
    "# append ddviewer to path\n",
    "sys.path.insert(0, op.join(os.getcwd(), '..', '..'))\n",
    "\n",
    "# dependencies\n",
    "from lib.wget import download_ioc_stations, download_station_by_code\n",
    "from lib.plot import *\n",
    "from lib.config import *"
   ]
  },
  {
   "cell_type": "markdown",
   "id": "conceptual-young",
   "metadata": {},
   "source": [
    "## 1. Load databases <a class=\"anchor\" id=\"1\"></a>"
   ]
  },
  {
   "cell_type": "markdown",
   "id": "federal-cologne",
   "metadata": {},
   "source": [
    "`p_data` is the folder path where the individual databases are located and in `p_storage` the output files of this notebook will be storage"
   ]
  },
  {
   "cell_type": "code",
   "execution_count": null,
   "id": "genetic-statement",
   "metadata": {},
   "outputs": [],
   "source": [
    "p_data = op.join(os.getcwd(), '..', 'data', 'databases')\n",
    "p_storage = op.join(p_data, '..', '..', 'storage')"
   ]
  },
  {
   "cell_type": "code",
   "execution_count": null,
   "id": "adapted-adelaide",
   "metadata": {},
   "outputs": [],
   "source": [
    "# Download sea-level stations inside selected region\n",
    "stations_ioc = download_ioc_stations(region)\n",
    "stations_bom = xr.open_dataset(op.join(p_data, 'historical_BOM_data', 'historical_BOM_stations.nc'))"
   ]
  },
  {
   "cell_type": "code",
   "execution_count": null,
   "id": "offensive-future",
   "metadata": {},
   "outputs": [],
   "source": [
    "# Load databases (waves, wind, prec, ss)\n",
    "p_waves = op.join(p_data, 'Waves_CSIRO.nc')\n",
    "p_wind = op.join(p_data, 'Wind_CFSR.nc')\n",
    "p_prec = op.join(p_data, 'P_CFS.nc')\n",
    "p_codec = op.join(p_data, 'SS_CODEC.nc')\n",
    "p_pressure = op.join(p_data, 'SLPS_1979_2019.nc')\n",
    "\n",
    "waves = xr.open_dataset(p_waves)\n",
    "wind = xr.open_dataset(p_wind)\n",
    "prec = xr.open_dataset(p_prec)\n",
    "codec = xr.open_dataset(p_codec)\n",
    "pressure = xr.open_dataset(p_pressure)"
   ]
  },
  {
   "cell_type": "code",
   "execution_count": null,
   "id": "prime-escape",
   "metadata": {},
   "outputs": [],
   "source": [
    "# Extract lat-lon coordinates-mesh\n",
    "latt_wvs, lonn_wvs = np.meshgrid(waves.latitude, waves.longitude)\n",
    "latt_wnd, lonn_wnd = np.meshgrid(wind.lat, wind.lon)\n",
    "latt_prc, lonn_prec = np.meshgrid(prec.lat, prec.lon)\n",
    "latt_pres, lon_pres = np.meshgrid(pressure.latitude, pressure.longitude)\n",
    "\n",
    "df_wvs = pd.DataFrame({'lat':np.concatenate(latt_wvs), 'lon':np.concatenate(lonn_wvs),})\n",
    "df_wnd = pd.DataFrame({'lat':np.concatenate(latt_wnd), 'lon':np.concatenate(lonn_wnd),})\n",
    "df_prec = pd.DataFrame({'lat':np.concatenate(latt_prc),'lon':np.concatenate(lonn_prec),})\n",
    "df_pres = pd.DataFrame({'lat':np.concatenate(latt_pres),'lon':np.concatenate(lon_pres),})"
   ]
  },
  {
   "cell_type": "markdown",
   "id": "romance-olive",
   "metadata": {},
   "source": [
    "## Location map <a class=\"anchor\" id=\"2\"></a>"
   ]
  },
  {
   "cell_type": "markdown",
   "id": "colored-agriculture",
   "metadata": {},
   "source": [
    "An interactive map is displayed for the user to identify the stations in the database. The top panel allows items to be deselected for better visualisation."
   ]
  },
  {
   "cell_type": "code",
   "execution_count": null,
   "id": "baking-newcastle",
   "metadata": {
    "tags": []
   },
   "outputs": [],
   "source": [
    "px_databases(df_wnd, df_wvs, df_prec, stations_ioc, stations_bom, codec, df_pres)"
   ]
  },
  {
   "cell_type": "markdown",
   "id": "external-enough",
   "metadata": {},
   "source": [
    "## 2. Data visualization <a class=\"anchor\" id=\"3\"></a>"
   ]
  },
  {
   "cell_type": "markdown",
   "id": "trying-powell",
   "metadata": {},
   "source": [
    "### Sea level <a class=\"anchor\" id=\"31\"></a>"
   ]
  },
  {
   "cell_type": "markdown",
   "id": "inappropriate-material",
   "metadata": {},
   "source": [
    "#### Near-real-time IOC<a class=\"anchor\" id=\"311\"></a>"
   ]
  },
  {
   "cell_type": "code",
   "execution_count": null,
   "id": "executive-momentum",
   "metadata": {
    "scrolled": true,
    "tags": []
   },
   "outputs": [],
   "source": [
    "# download selected station\n",
    "code = 'nkfa' \n",
    "station_data = download_station_by_code(code, '1 week')"
   ]
  },
  {
   "cell_type": "code",
   "execution_count": null,
   "id": "remarkable-remains",
   "metadata": {},
   "outputs": [],
   "source": [
    "fig = px.line(station_data.rename(columns={'aqu(m)':'Level(m)'}))\n",
    "fig.update_layout(width=1000,height=300,)\n",
    "fig.show()"
   ]
  },
  {
   "cell_type": "markdown",
   "id": "modified-rider",
   "metadata": {},
   "source": [
    "#### Historical BOM<a class=\"anchor\" id=\"312\"></a>"
   ]
  },
  {
   "cell_type": "code",
   "execution_count": null,
   "id": "encouraging-paragraph",
   "metadata": {},
   "outputs": [],
   "source": [
    "# Download BOM station data\n",
    "station_id = 'IDO70012'            \n",
    "ds_i = stations_bom.sel(ID_CODE=station_id)"
   ]
  },
  {
   "cell_type": "markdown",
   "id": "exciting-connecticut",
   "metadata": {},
   "source": [
    "**- Run historical period (1992-2021)**"
   ]
  },
  {
   "cell_type": "code",
   "execution_count": null,
   "id": "intensive-anxiety",
   "metadata": {},
   "outputs": [],
   "source": [
    "df_subset_sl = ds_i"
   ]
  },
  {
   "cell_type": "markdown",
   "id": "hollow-registrar",
   "metadata": {},
   "source": [
    "**- Select a period of data (a month, a year)**"
   ]
  },
  {
   "cell_type": "code",
   "execution_count": null,
   "id": "partial-justice",
   "metadata": {},
   "outputs": [],
   "source": [
    "# initial date (year, month, day)\n",
    "d1, m1, y1 = 1, 4, 2000\n",
    "\n",
    "# final date \n",
    "d2, m2, y2,  = 1, 5, 2000\n",
    "\n",
    "df_subset_sl = ds_i.sel(Date=slice(datetime.datetime(y1,m1,d1),  datetime.datetime(y2,m2,d2)))"
   ]
  },
  {
   "cell_type": "code",
   "execution_count": null,
   "id": "common-desktop",
   "metadata": {},
   "outputs": [],
   "source": [
    "#%matplotlib\n",
    "df_subset_sl['Sea level'].plot(\n",
    "    color=colors[0],\n",
    "    figsize=(10,3)\n",
    ")\n",
    "plt.show()"
   ]
  },
  {
   "cell_type": "markdown",
   "id": "ongoing-revelation",
   "metadata": {},
   "source": [
    "#### Storage output data<a class=\"anchor\" id=\"313\"></a>"
   ]
  },
  {
   "cell_type": "code",
   "execution_count": null,
   "id": "otherwise-accordance",
   "metadata": {},
   "outputs": [],
   "source": [
    "# storage .csv\n",
    "df_subset_sl.to_dataframe()[['Sea level']].to_csv(op.join(p_storage, 'Sea_level_{0}.csv'.format(ds_i.Country.values)))"
   ]
  },
  {
   "cell_type": "markdown",
   "id": "daily-vertical",
   "metadata": {},
   "source": [
    "---\n",
    "<br>"
   ]
  },
  {
   "cell_type": "markdown",
   "id": "modern-gibson",
   "metadata": {},
   "source": [
    "### Waves <a class=\"anchor\" id=\"32\"></a>"
   ]
  },
  {
   "cell_type": "code",
   "execution_count": null,
   "id": "classified-socket",
   "metadata": {},
   "outputs": [],
   "source": [
    "ID_wave = 1139"
   ]
  },
  {
   "cell_type": "markdown",
   "id": "maritime-taxation",
   "metadata": {},
   "source": [
    "#### Time series visualization of Station ID<a class=\"anchor\" id=\"321\"></a>"
   ]
  },
  {
   "cell_type": "code",
   "execution_count": null,
   "id": "tracked-syndication",
   "metadata": {},
   "outputs": [],
   "source": [
    "dfi = df_wvs.loc[[ID_wave]]\n",
    "\n",
    "wvs_i = waves.sel(latitude=dfi.lat.values, longitude=dfi.lon.values).squeeze()\n",
    "df_wvs_i = wvs_i.to_dataframe()[['hs', 'fp', 'dir']]\n",
    "df_wvs_i['tp'] = 1/df_wvs_i['fp']"
   ]
  },
  {
   "cell_type": "markdown",
   "id": "technological-participant",
   "metadata": {},
   "source": [
    "**- Run historical period (1979-2020)**"
   ]
  },
  {
   "cell_type": "code",
   "execution_count": null,
   "id": "august-angola",
   "metadata": {},
   "outputs": [],
   "source": [
    "df_subset_waves = df_wvs_i"
   ]
  },
  {
   "cell_type": "markdown",
   "id": "intended-salmon",
   "metadata": {},
   "source": [
    "**- Select a period of data (a month, a year)**"
   ]
  },
  {
   "cell_type": "code",
   "execution_count": null,
   "id": "accurate-shift",
   "metadata": {},
   "outputs": [],
   "source": [
    "# initial date (year, month, day)\n",
    "d1, m1, y1 = 2, 4, 2020\n",
    "\n",
    "# final date \n",
    "d2, m2, y2,  = 10, 4, 2020\n",
    "\n",
    "df_subset_waves = df_wvs_i[datetime.datetime(y1,m1,d1) : datetime.datetime(y2,m2,d2)]"
   ]
  },
  {
   "cell_type": "markdown",
   "id": "cloudy-niger",
   "metadata": {},
   "source": [
    "**Plot time series**"
   ]
  },
  {
   "cell_type": "code",
   "execution_count": null,
   "id": "typical-finish",
   "metadata": {},
   "outputs": [],
   "source": [
    "#%matplotlib\n",
    "df_subset_waves[['hs', 'tp', 'dir']].plot(\n",
    "    figsize=(10, 3),\n",
    "    style=['-','-', '.'],\n",
    "    ms=2,\n",
    "    color=[colors[0],colors[1],colors[2]],\n",
    "    subplots=True, \n",
    "    layout=(3,1),\n",
    ")\n",
    "plt.show()"
   ]
  },
  {
   "cell_type": "code",
   "execution_count": null,
   "id": "accessible-argument",
   "metadata": {},
   "outputs": [],
   "source": [
    "df_subset_waves = df_subset_waves.replace([np.inf, -np.inf], np.nan)\n",
    "fig, axs = plt.subplots(1, 3, figsize=(17,5))\n",
    "axs[0].hist(df_subset_waves['hs'], alpha=0.7, density=1, rwidth=0.95, color=colors[0])\n",
    "axs[1].hist(df_subset_waves['tp'], alpha=0.7, density=1, rwidth=0.95, color=colors[1])\n",
    "axs[2].hist(df_subset_waves['dir'], alpha=0.7, density=1,  rwidth=0.95, color=colors[2])\n",
    "axs[0].set_xlabel('Hs (m)')\n",
    "axs[1].set_xlabel('Tp (s)')\n",
    "axs[2].set_xlabel('Dir (º)')\n",
    "plt.show()"
   ]
  },
  {
   "cell_type": "markdown",
   "id": "negative-office",
   "metadata": {},
   "source": [
    "#### Time frame animation<a class=\"anchor\" id=\"322\"></a>"
   ]
  },
  {
   "cell_type": "code",
   "execution_count": null,
   "id": "reserved-majority",
   "metadata": {},
   "outputs": [],
   "source": [
    "# Choose between dataset variables ('hs', 'tp', 'dir')\n",
    "var = ['hs']\n",
    "\n",
    "# custom colormap\n",
    "if var == ['dir']: colormap = px.colors.cyclical.HSV\n",
    "else: colormap = px.colors.sequential.Hot_r\n",
    "\n",
    "waves_subset = waves.sel(time=slice(datetime.datetime(y1,m1,d1), datetime.datetime(y2,m2,d2)))\n",
    "waves_subset = waves_subset[var].to_dataframe().reset_index()\n",
    "waves_subset['time'] = waves_subset['time'].astype(str).tolist()"
   ]
  },
  {
   "cell_type": "code",
   "execution_count": null,
   "id": "equivalent-fifty",
   "metadata": {},
   "outputs": [],
   "source": [
    "fig = px.scatter_mapbox(waves_subset, lat=\"latitude\", lon=\"longitude\", \n",
    "                        color_continuous_scale=colormap,\n",
    "                        color=var[0], \n",
    "                        zoom=3.6, height=550, width=500, \n",
    "                        animation_frame=\"time\",\n",
    "                        size_max=120,\n",
    "                        range_color=(np.nanmin(waves_subset[var].values), np.nanmax(waves_subset[var].values))\n",
    ")\n",
    "fig.update_traces(marker=dict(size=12))\n",
    "fig.update_layout(\n",
    "    margin={\"r\":2,\"t\":0,\"l\":0,\"b\":0}, \n",
    "    width=900, height=500,\n",
    "    mapbox_style=\"open-street-map\"\n",
    "\n",
    ")\n",
    "fig.show()"
   ]
  },
  {
   "cell_type": "markdown",
   "id": "administrative-victorian",
   "metadata": {},
   "source": [
    "#### Storage output data <a class=\"anchor\" id=\"323\"></a>"
   ]
  },
  {
   "cell_type": "code",
   "execution_count": null,
   "id": "limited-cartoon",
   "metadata": {},
   "outputs": [],
   "source": [
    "# storage .csv\n",
    "df_subset_waves.to_csv(op.join(p_storage, 'Waves_{0}.csv'.format(ID_wave)))"
   ]
  },
  {
   "cell_type": "markdown",
   "id": "statutory-grenada",
   "metadata": {},
   "source": [
    "---\n",
    "<br>"
   ]
  },
  {
   "cell_type": "markdown",
   "id": "promising-plenty",
   "metadata": {},
   "source": [
    "### Wind <a class=\"anchor\" id=\"33\"></a>"
   ]
  },
  {
   "cell_type": "code",
   "execution_count": null,
   "id": "confirmed-wildlife",
   "metadata": {},
   "outputs": [],
   "source": [
    "ID_wind = 616"
   ]
  },
  {
   "cell_type": "markdown",
   "id": "forty-sample",
   "metadata": {},
   "source": [
    "#### Time series visualization of Station ID <a class=\"anchor\" id=\"331\"></a>"
   ]
  },
  {
   "cell_type": "code",
   "execution_count": null,
   "id": "demographic-tribe",
   "metadata": {},
   "outputs": [],
   "source": [
    "dfii = df_wnd.loc[[ID_wind]]\n",
    "\n",
    "wnd_i = wind.sel(lat=dfii.lat.values, lon=dfii.lon.values).squeeze()\n",
    "df_wnd_i = wnd_i.to_dataframe()[['w', 'wdir']]"
   ]
  },
  {
   "cell_type": "markdown",
   "id": "common-secretariat",
   "metadata": {},
   "source": [
    "**- Run historical period (1979-2021)**"
   ]
  },
  {
   "cell_type": "code",
   "execution_count": null,
   "id": "japanese-peace",
   "metadata": {},
   "outputs": [],
   "source": [
    "df_subset_wind = df_wnd_i"
   ]
  },
  {
   "cell_type": "markdown",
   "id": "welcome-still",
   "metadata": {},
   "source": [
    "**- Select a period of data (a month, a year)**"
   ]
  },
  {
   "cell_type": "code",
   "execution_count": null,
   "id": "prescribed-journey",
   "metadata": {},
   "outputs": [],
   "source": [
    "# initial date (year, month, day)\n",
    "d1, m1, y1 = 2, 4, 2020\n",
    "\n",
    "# final date \n",
    "d2, m2, y2,  = 10, 4, 2020\n",
    "\n",
    "df_subset_wind = df_wnd_i[datetime.datetime(y1,m1,d1) : datetime.datetime(y2,m2,d2)]"
   ]
  },
  {
   "cell_type": "code",
   "execution_count": null,
   "id": "cutting-doctor",
   "metadata": {},
   "outputs": [],
   "source": [
    "#%matplotlib\n",
    "df_subset_wind.plot(\n",
    "    figsize=(10,3),\n",
    "    style=['-', '.'],\n",
    "    ms=7,\n",
    "    color=[colors[0],colors[1]],\n",
    "    subplots=True, \n",
    ")\n",
    "plt.show()"
   ]
  },
  {
   "cell_type": "code",
   "execution_count": null,
   "id": "mechanical-liberia",
   "metadata": {},
   "outputs": [],
   "source": [
    "#%matplotlib\n",
    "df_subset_wind = df_subset_wind.replace([np.inf, -np.inf], np.nan)\n",
    "fig, axs = plt.subplots(1, 2, figsize=(12,5))\n",
    "axs[0].hist(df_subset_wind['w'], alpha=0.7, density=1, rwidth=0.95, color=colors[0])\n",
    "axs[1].hist(df_subset_wind['wdir'], alpha=0.7, density=1, rwidth=0.95, color=colors[2])\n",
    "axs[0].set_xlabel('W (m/s)')\n",
    "axs[1].set_xlabel('Wdir(º)')\n",
    "plt.show()"
   ]
  },
  {
   "cell_type": "markdown",
   "id": "velvet-generator",
   "metadata": {},
   "source": [
    "#### Time frame animation<a class=\"anchor\" id=\"332\"></a>"
   ]
  },
  {
   "cell_type": "code",
   "execution_count": null,
   "id": "finite-coffee",
   "metadata": {},
   "outputs": [],
   "source": [
    "# Choose between dataset variables ('w', 'wdir')\n",
    "var = ['wdir']\n",
    "\n",
    "# custom colormap\n",
    "if var == ['wdir']: colormap = px.colors.cyclical.HSV\n",
    "else: colormap = px.colors.sequential.dense\n",
    "\n",
    "wind_subset = wind.sel(time=slice(datetime.datetime(y1,m1,d1), datetime.datetime(y2,m2,d2)))\n",
    "wind_subset = wind_subset[var].to_dataframe().reset_index()\n",
    "wind_subset['time'] = wind_subset['time'].astype(str).tolist()"
   ]
  },
  {
   "cell_type": "code",
   "execution_count": null,
   "id": "multiple-albany",
   "metadata": {},
   "outputs": [],
   "source": [
    "fig = px.scatter_mapbox(wind_subset, lat=\"lat\", lon=\"lon\", \n",
    "                        color_continuous_scale=colormap,\n",
    "                        color=var[0], \n",
    "                        zoom=3.6, height=550, width=500, \n",
    "                        animation_frame=\"time\",\n",
    "                        size_max=120,\n",
    "                        range_color=(np.nanmin(wind_subset[var].values), np.nanmax(wind_subset[var].values))\n",
    ")\n",
    "fig.update_traces(marker=dict(size=12))\n",
    "fig.update_layout(\n",
    "    margin={\"r\":2,\"t\":0,\"l\":0,\"b\":0}, \n",
    "    width=900, height=500,\n",
    "    mapbox_style=\"open-street-map\"\n",
    "\n",
    ")\n",
    "fig.show()"
   ]
  },
  {
   "cell_type": "markdown",
   "id": "viral-tunnel",
   "metadata": {},
   "source": [
    "#### Storage output data <a class=\"anchor\" id=\"333\"></a>"
   ]
  },
  {
   "cell_type": "code",
   "execution_count": null,
   "id": "dedicated-norway",
   "metadata": {},
   "outputs": [],
   "source": [
    "# storage .csv\n",
    "df_subset_wind.to_csv(op.join(p_storage, 'Wind_{0}.csv'.format(ID_wind)))"
   ]
  },
  {
   "cell_type": "markdown",
   "id": "physical-paste",
   "metadata": {},
   "source": [
    "---\n",
    "<br>"
   ]
  },
  {
   "cell_type": "markdown",
   "id": "junior-medium",
   "metadata": {},
   "source": [
    "### Precipitation <a class=\"anchor\" id=\"34\"></a>"
   ]
  },
  {
   "cell_type": "code",
   "execution_count": null,
   "id": "rough-alcohol",
   "metadata": {},
   "outputs": [],
   "source": [
    "ID_prec = 36"
   ]
  },
  {
   "cell_type": "markdown",
   "id": "virgin-lodge",
   "metadata": {},
   "source": [
    "#### Time series visualization of Station ID <a class=\"anchor\" id=\"341\"></a>"
   ]
  },
  {
   "cell_type": "code",
   "execution_count": null,
   "id": "natural-binary",
   "metadata": {},
   "outputs": [],
   "source": [
    "dfii_1 = df_prec.loc[[ID_prec]]\n",
    "\n",
    "prec_i = prec.sel(lat=dfii_1.lat, lon=dfii_1.lon).squeeze()\n",
    "df_prec_i = prec_i.to_dataframe()[['pratel']].rename(columns={'pratel':'Precipitation'})"
   ]
  },
  {
   "cell_type": "markdown",
   "id": "mechanical-cameroon",
   "metadata": {},
   "source": [
    "**- Run historical period (1982-2019)**"
   ]
  },
  {
   "cell_type": "code",
   "execution_count": null,
   "id": "adolescent-maldives",
   "metadata": {},
   "outputs": [],
   "source": [
    "df_subset_prec = df_prec_i"
   ]
  },
  {
   "cell_type": "markdown",
   "id": "working-article",
   "metadata": {},
   "source": [
    "**- Select a period of data (a month, a year)**"
   ]
  },
  {
   "cell_type": "code",
   "execution_count": null,
   "id": "fewer-adobe",
   "metadata": {},
   "outputs": [],
   "source": [
    "# initial date (year, month, day)\n",
    "d1, m1, y1 = 4, 4, 2019\n",
    "\n",
    "# final date \n",
    "d2, m2, y2,  = 10, 4, 2020\n",
    "\n",
    "df_subset_prec = df_prec_i[datetime.datetime(y1,m1,d1) : datetime.datetime(y2,m2,d2)]"
   ]
  },
  {
   "cell_type": "markdown",
   "id": "massive-country",
   "metadata": {},
   "source": [
    "**Plot**"
   ]
  },
  {
   "cell_type": "code",
   "execution_count": null,
   "id": "early-portfolio",
   "metadata": {},
   "outputs": [],
   "source": [
    "fig = px.line(df_subset_prec)\n",
    "fig.update_layout(width=1000,height=300,)\n",
    "fig.show()"
   ]
  },
  {
   "cell_type": "markdown",
   "id": "bridal-quantum",
   "metadata": {},
   "source": [
    "#### Time frame animation<a class=\"anchor\" id=\"342\"></a>"
   ]
  },
  {
   "cell_type": "code",
   "execution_count": null,
   "id": "premier-attack",
   "metadata": {},
   "outputs": [],
   "source": [
    "var = ['pratel']\n",
    "\n",
    "prec_subset = prec.sel(time=slice(datetime.datetime(y1,m1,d1), datetime.datetime(y2,m2,d2)))\n",
    "prec_subset = prec_subset[var].to_dataframe().reset_index()\n",
    "prec_subset['time'] = prec_subset['time'].astype(str).tolist()"
   ]
  },
  {
   "cell_type": "code",
   "execution_count": null,
   "id": "incorporate-edmonton",
   "metadata": {},
   "outputs": [],
   "source": [
    "fig = px.scatter_mapbox(prec_subset, lat=\"lat\", lon=\"lon\", \n",
    "                        color_continuous_scale=px.colors.sequential.Magma_r,\n",
    "                        color=var[0], \n",
    "                        zoom=3.6, height=550, width=500, \n",
    "                        animation_frame=\"time\",\n",
    "                        size_max=300,\n",
    "                        range_color=(np.nanmin(prec_subset[var].values), np.nanmax(prec_subset[var].values))\n",
    ")\n",
    "fig.update_traces(marker=dict(size=12))\n",
    "fig.update_layout(\n",
    "    margin={\"r\":2,\"t\":0,\"l\":0,\"b\":0}, \n",
    "    width=900, height=500,\n",
    "    mapbox_style=\"open-street-map\"\n",
    "\n",
    ")\n",
    "fig.show()"
   ]
  },
  {
   "cell_type": "markdown",
   "id": "placed-islam",
   "metadata": {},
   "source": [
    "#### Storage output data <a class=\"anchor\" id=\"342\"></a>"
   ]
  },
  {
   "cell_type": "code",
   "execution_count": null,
   "id": "otherwise-sunday",
   "metadata": {},
   "outputs": [],
   "source": [
    "# storage .csv\n",
    "df_subset_prec.to_csv(op.join(p_storage, 'Precipitation_{0}.csv'.format(ID_prec)))"
   ]
  },
  {
   "cell_type": "markdown",
   "id": "union-preservation",
   "metadata": {},
   "source": [
    "---\n",
    "<br>"
   ]
  },
  {
   "cell_type": "markdown",
   "id": "exempt-housing",
   "metadata": {},
   "source": [
    "### Storm Surge <a class=\"anchor\" id=\"35\"></a>"
   ]
  },
  {
   "cell_type": "code",
   "execution_count": null,
   "id": "abroad-market",
   "metadata": {},
   "outputs": [],
   "source": [
    "ID_ss = 9"
   ]
  },
  {
   "cell_type": "markdown",
   "id": "dependent-exploration",
   "metadata": {},
   "source": [
    "#### Time series visualization of Station ID <a class=\"anchor\" id=\"341\"></a>"
   ]
  },
  {
   "cell_type": "code",
   "execution_count": null,
   "id": "usual-rhythm",
   "metadata": {},
   "outputs": [],
   "source": [
    "df_cod = codec.sel(Station=ID_ss).squeeze()\n",
    "df_ss = df_cod.to_dataframe()[['SS']]"
   ]
  },
  {
   "cell_type": "markdown",
   "id": "afraid-diary",
   "metadata": {},
   "source": [
    "**- Run historical period (1979-2018)**"
   ]
  },
  {
   "cell_type": "code",
   "execution_count": null,
   "id": "practical-reference",
   "metadata": {},
   "outputs": [],
   "source": [
    "df_subset_ss = df_ss"
   ]
  },
  {
   "cell_type": "markdown",
   "id": "interested-economy",
   "metadata": {},
   "source": [
    "**- Select a period of data (a month, a year)**"
   ]
  },
  {
   "cell_type": "code",
   "execution_count": null,
   "id": "linear-poetry",
   "metadata": {},
   "outputs": [],
   "source": [
    "# initial date (year, month, day)\n",
    "d1, m1, y1 = 4, 4, 2015\n",
    "\n",
    "# final date \n",
    "d2, m2, y2,  = 10, 4, 2015\n",
    "\n",
    "df_subset_ss = df_ss[datetime.datetime(y1,m1,d1) : datetime.datetime(y2,m2,d2)]"
   ]
  },
  {
   "cell_type": "markdown",
   "id": "essential-local",
   "metadata": {},
   "source": [
    "**Plot**"
   ]
  },
  {
   "cell_type": "code",
   "execution_count": null,
   "id": "located-ballet",
   "metadata": {
    "scrolled": true
   },
   "outputs": [],
   "source": [
    "fig = px.line(df_subset_ss)\n",
    "fig.update_layout(width=1000,height=300,)\n",
    "fig.show()"
   ]
  },
  {
   "cell_type": "markdown",
   "id": "representative-measurement",
   "metadata": {},
   "source": [
    "#### Time frame animation<a class=\"anchor\" id=\"342\"></a>"
   ]
  },
  {
   "cell_type": "code",
   "execution_count": null,
   "id": "secure-admission",
   "metadata": {},
   "outputs": [],
   "source": [
    "var = ['SS']\n",
    "\n",
    "ss_subset = codec.sel(Date=slice(datetime.datetime(y1,m1,d1), datetime.datetime(y2,m2,d2)))\n",
    "ss_subset = ss_subset[var].to_dataframe().reset_index()\n",
    "ss_subset['time'] = ss_subset['Date'].astype(str).tolist()"
   ]
  },
  {
   "cell_type": "code",
   "execution_count": null,
   "id": "painful-rebel",
   "metadata": {},
   "outputs": [],
   "source": [
    "fig = px.scatter_mapbox(ss_subset, lat=\"Lat\", lon=\"Lon\", \n",
    "                        color_continuous_scale=px.colors.sequential.RdBu_r,\n",
    "                        color=var[0], \n",
    "                        zoom=3.6, height=550, width=500, \n",
    "                        animation_frame=\"time\",\n",
    "                        size_max=300,\n",
    "                        range_color=(np.nanmin(ss_subset[var].values), np.nanmax(ss_subset[var].values))\n",
    ")\n",
    "fig.update_traces(marker=dict(size=12))\n",
    "fig.update_layout(\n",
    "    margin={\"r\":2,\"t\":0,\"l\":0,\"b\":0}, \n",
    "    width=900, height=500,\n",
    "    mapbox_style=\"open-street-map\"\n",
    "\n",
    ")\n",
    "fig.show()"
   ]
  },
  {
   "cell_type": "markdown",
   "id": "demographic-boston",
   "metadata": {},
   "source": [
    "#### Storage output data <a class=\"anchor\" id=\"342\"></a>"
   ]
  },
  {
   "cell_type": "code",
   "execution_count": null,
   "id": "south-mainstream",
   "metadata": {},
   "outputs": [],
   "source": [
    "# storage .csv\n",
    "df_subset_ss.to_csv(op.join(p_storage, 'StormSurge_{0}.csv'.format(ID_ss)))"
   ]
  },
  {
   "cell_type": "markdown",
   "id": "e72fa9de",
   "metadata": {},
   "source": [
    "### Pressure <a class=\"anchor\" id=\"36\"></a>"
   ]
  },
  {
   "cell_type": "code",
   "execution_count": null,
   "id": "ab239f31",
   "metadata": {},
   "outputs": [],
   "source": [
    "ID_pres = 342"
   ]
  },
  {
   "cell_type": "markdown",
   "id": "1edf9b1d",
   "metadata": {},
   "source": [
    "#### Time series visualization of Station ID <a class=\"anchor\" id=\"341\"></a>"
   ]
  },
  {
   "cell_type": "code",
   "execution_count": null,
   "id": "6bcfae26",
   "metadata": {},
   "outputs": [],
   "source": [
    "df_p = df_pres.loc[ID_pres].squeeze()\n",
    "\n",
    "pres_i = pressure.sel(latitude=df_p.lat, longitude=df_p.lon).squeeze()\n",
    "df_pres_i = pres_i.to_dataframe()[['SLP']]"
   ]
  },
  {
   "cell_type": "markdown",
   "id": "a84d0fdf",
   "metadata": {},
   "source": [
    "**- Run historical period (1979-2018)**"
   ]
  },
  {
   "cell_type": "code",
   "execution_count": null,
   "id": "0618c843",
   "metadata": {},
   "outputs": [],
   "source": [
    "df_subset_pres = df_pres_i"
   ]
  },
  {
   "cell_type": "markdown",
   "id": "4e0bfe9a",
   "metadata": {},
   "source": [
    "**- Select a period of data (a month, a year)**"
   ]
  },
  {
   "cell_type": "code",
   "execution_count": null,
   "id": "22bff52c",
   "metadata": {},
   "outputs": [],
   "source": [
    "# initial date (year, month, day)\n",
    "d1, m1, y1 = 4, 4, 2015\n",
    "\n",
    "# final date \n",
    "d2, m2, y2,  = 10, 4, 2015\n",
    "\n",
    "df_subset_pres = df_pres_i[datetime.datetime(y1,m1,d1) : datetime.datetime(y2,m2,d2)]"
   ]
  },
  {
   "cell_type": "markdown",
   "id": "5e0580cd",
   "metadata": {},
   "source": [
    "**Plot**"
   ]
  },
  {
   "cell_type": "code",
   "execution_count": null,
   "id": "ed538f2f",
   "metadata": {},
   "outputs": [],
   "source": [
    "fig = px.line(df_subset_pres)\n",
    "fig.update_layout(width=1000,height=300,)\n",
    "fig.show()"
   ]
  },
  {
   "cell_type": "markdown",
   "id": "daefe444",
   "metadata": {},
   "source": [
    "#### Time frame animation<a class=\"anchor\" id=\"342\"></a>"
   ]
  },
  {
   "cell_type": "code",
   "execution_count": null,
   "id": "46b12460",
   "metadata": {},
   "outputs": [],
   "source": [
    "var = ['SLP']\n",
    "\n",
    "pr_subset = pressure.sel(time=slice(datetime.datetime(y1,m1,d1), datetime.datetime(y2,m2,d2)))\n",
    "pr_subset = pr_subset[var].to_dataframe().reset_index()\n",
    "pr_subset['time'] = pr_subset['time'].astype(str).tolist()\n",
    "\n",
    "fig = px.scatter_mapbox(pr_subset, lat=\"latitude\", lon=\"longitude\", \n",
    "                        color_continuous_scale=px.colors.sequential.RdBu_r,\n",
    "                        color=var[0], \n",
    "                        zoom=3.6, height=550, width=500, \n",
    "                        animation_frame=\"time\",\n",
    "                        size_max=300,\n",
    "                        range_color=(np.nanmin(pr_subset[var].values), np.nanmax(pr_subset[var].values))\n",
    ")\n",
    "fig.update_traces(marker=dict(size=12))\n",
    "fig.update_layout(\n",
    "    margin={\"r\":2,\"t\":0,\"l\":0,\"b\":0}, \n",
    "    width=900, height=500,\n",
    "    mapbox_style=\"open-street-map\"\n",
    "\n",
    ")\n",
    "fig.show()"
   ]
  },
  {
   "cell_type": "markdown",
   "id": "05bbb717",
   "metadata": {},
   "source": [
    "#### Storage output data <a class=\"anchor\" id=\"342\"></a>"
   ]
  },
  {
   "cell_type": "code",
   "execution_count": null,
   "id": "e76df4a8",
   "metadata": {},
   "outputs": [],
   "source": [
    "# storage .csv\n",
    "df_subset_pres.to_csv(op.join(p_storage, 'Pressure_{0}.csv'.format(ID_pres)))"
   ]
  },
  {
   "cell_type": "code",
   "execution_count": null,
   "id": "3bcf3793",
   "metadata": {},
   "outputs": [],
   "source": []
  }
 ],
 "metadata": {
  "kernelspec": {
   "display_name": "Python 3 (ipykernel)",
   "language": "python",
   "name": "python3"
  },
  "language_info": {
   "codemirror_mode": {
    "name": "ipython",
    "version": 3
   },
   "file_extension": ".py",
   "mimetype": "text/x-python",
   "name": "python",
   "nbconvert_exporter": "python",
   "pygments_lexer": "ipython3",
   "version": "3.8.13"
  },
  "widgets": {
   "application/vnd.jupyter.widget-state+json": {
    "state": {},
    "version_major": 2,
    "version_minor": 0
   }
  }
 },
 "nbformat": 4,
 "nbformat_minor": 5
}
