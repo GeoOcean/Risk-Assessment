{
 "cells": [
  {
   "cell_type": "markdown",
   "id": "5fec1403-5fd6-4ee1-a9f0-f25be746e56f",
   "metadata": {},
   "source": [
    "# **Vulnerability: Damage Functions**"
   ]
  },
  {
   "cell_type": "code",
   "execution_count": null,
   "id": "de4b7649-96bc-49f4-af7b-d1918743d631",
   "metadata": {},
   "outputs": [],
   "source": [
    "import os\n",
    "import os.path as op\n",
    "import sys\n",
    "import glob\n",
    "\n",
    "import numpy as np\n",
    "import pandas as pd\n",
    "\n",
    "# plot\n",
    "import matplotlib.pyplot as plt\n",
    "sys.path.insert(0, op.join(os.getcwd(), '..',  '..', 'lib'))\n",
    "\n",
    "from damage_functions import damage_curves, plotDamageCurve\n",
    "from config import *\n"
   ]
  },
  {
   "cell_type": "code",
   "execution_count": null,
   "id": "05bbfefa-4029-4950-9a7e-e026d245bd15",
   "metadata": {},
   "outputs": [],
   "source": [
    "dam_buildings_flood, dam_roads_flood, dam_crops_flood, dam_specials_flood, dam_buildings_wind, dam_crops_wind, dam_specials_wind = damage_curves()\n"
   ]
  },
  {
   "cell_type": "markdown",
   "id": "4310cd41-2b8a-49f4-a97e-c23fa10e4183",
   "metadata": {},
   "source": [
    "## Coastal and Ranfaill Flooding depth-damage curves "
   ]
  },
  {
   "cell_type": "code",
   "execution_count": null,
   "id": "204a57e8-b7ec-4cc8-b2c0-c80e10e5a13b",
   "metadata": {},
   "outputs": [],
   "source": [
    "plt.style.use('seaborn')"
   ]
  },
  {
   "cell_type": "markdown",
   "id": "ca4d2d27-69f1-4a6e-84d3-ef480ec72eea",
   "metadata": {},
   "source": [
    "### Roads"
   ]
  },
  {
   "cell_type": "code",
   "execution_count": null,
   "id": "a931dadc-e034-4704-965f-b7a036c673ce",
   "metadata": {},
   "outputs": [],
   "source": [
    "colors = plt.cm.rainbow(np.linspace(0, 1, len(dam_roads_flood)))\n",
    "plotDamageCurve(dam_roads_flood, colors, 'Percentage of Damage', 'Water Depth (m)', [0,7])\n"
   ]
  },
  {
   "cell_type": "markdown",
   "id": "c69e3cb1-0a03-4190-a00f-de5b984502e3",
   "metadata": {},
   "source": [
    "### Land Crops"
   ]
  },
  {
   "cell_type": "code",
   "execution_count": null,
   "id": "6309a954-c573-400f-bdef-d1a53089b2f0",
   "metadata": {},
   "outputs": [],
   "source": [
    "colors = plt.cm.brg(np.linspace(0, 1, len(dam_crops_flood)))\n",
    "plotDamageCurve(dam_crops_flood, colors, 'Percentage of Damage', 'Water Depth (m)', [0,7])\n"
   ]
  },
  {
   "cell_type": "markdown",
   "id": "51f73cf6-060e-458d-acd8-b19e7e826e84",
   "metadata": {},
   "source": [
    "### Special Infrastructures"
   ]
  },
  {
   "cell_type": "code",
   "execution_count": null,
   "id": "8408ae67-a20b-4fcc-9faa-99fe27fe31cd",
   "metadata": {},
   "outputs": [],
   "source": [
    "colors = plt.cm.rainbow(np.linspace(0, 1, len(dam_specials_flood)))\n",
    "plotDamageCurve(dam_specials_flood, colors, 'Percentage of Damage', 'Water Depth (m)', [0,7])\n"
   ]
  },
  {
   "cell_type": "markdown",
   "id": "252252df-4c98-4f19-be76-6461e01febcd",
   "metadata": {},
   "source": [
    "### Buildings"
   ]
  },
  {
   "cell_type": "code",
   "execution_count": null,
   "id": "a723e1a5-6ce1-4037-8210-dab294b62dea",
   "metadata": {},
   "outputs": [],
   "source": [
    "colors = plt.cm.rainbow(np.linspace(0, 1, len(dam_buildings_flood)))\n",
    "plotDamageCurve(dam_buildings_flood, colors, 'Percentage of Damage', 'Water Depth (m)', [0,11])\n"
   ]
  },
  {
   "cell_type": "markdown",
   "id": "505ebcdd-ae6b-4efc-b1bf-0f62d8890293",
   "metadata": {},
   "source": [
    "## Wind damage curves "
   ]
  },
  {
   "cell_type": "code",
   "execution_count": null,
   "id": "f4b26949-85ed-40bb-a3a0-7767a20fe445",
   "metadata": {},
   "outputs": [],
   "source": [
    "plt.style.use('ggplot')"
   ]
  },
  {
   "cell_type": "markdown",
   "id": "6548dbf6-3acb-4a77-871e-9151b11f6276",
   "metadata": {},
   "source": [
    "### Land Crops"
   ]
  },
  {
   "cell_type": "code",
   "execution_count": null,
   "id": "1afdfeff-08e0-4a60-8f25-bf3c78133ef9",
   "metadata": {},
   "outputs": [],
   "source": [
    "colors = plt.cm.rainbow(np.linspace(0, 1, len(dam_crops_wind)))\n",
    "plotDamageCurve(dam_crops_wind, colors, 'Percentage of Damage', 'Wind Speed (m/s)', [None, None])\n"
   ]
  },
  {
   "cell_type": "markdown",
   "id": "edc44ae2-43b4-432b-8a67-e430357eca16",
   "metadata": {},
   "source": [
    "### Special Infrastructures"
   ]
  },
  {
   "cell_type": "code",
   "execution_count": null,
   "id": "22af9dbf-57b0-43fc-8c3f-b7edc7f07ee9",
   "metadata": {},
   "outputs": [],
   "source": [
    "colors = plt.cm.rainbow(np.linspace(0, 1, len(dam_specials_wind)))\n",
    "plotDamageCurve(dam_specials_wind, colors, 'Percentage of Damage', 'Wind Speed (m/s)',  [None, None], 'upper left')\n"
   ]
  },
  {
   "cell_type": "markdown",
   "id": "91f272eb-e331-410d-8066-199766441824",
   "metadata": {},
   "source": [
    "### Buildings"
   ]
  },
  {
   "cell_type": "code",
   "execution_count": null,
   "id": "4028f12f-79e3-4419-8809-4e416bbd1f6e",
   "metadata": {},
   "outputs": [],
   "source": [
    "colors = plt.cm.rainbow(np.linspace(0, 1, len(dam_buildings_wind)))\n",
    "plotDamageCurve(dam_buildings_wind, colors, 'Percentage of Damage', 'Wind Speed (m/s)', [None, None], 'upper left')\n"
   ]
  },
  {
   "cell_type": "code",
   "execution_count": null,
   "id": "2556af29-3144-4efd-b581-a12d1883cd0b",
   "metadata": {},
   "outputs": [],
   "source": []
  }
 ],
 "metadata": {
  "kernelspec": {
   "display_name": "Python 3 (ipykernel)",
   "language": "python",
   "name": "python3"
  },
  "language_info": {
   "codemirror_mode": {
    "name": "ipython",
    "version": 3
   },
   "file_extension": ".py",
   "mimetype": "text/x-python",
   "name": "python",
   "nbconvert_exporter": "python",
   "pygments_lexer": "ipython3",
   "version": "3.8.13"
  },
  "widgets": {
   "application/vnd.jupyter.widget-state+json": {
    "state": {},
    "version_major": 2,
    "version_minor": 0
   }
  }
 },
 "nbformat": 4,
 "nbformat_minor": 5
}
