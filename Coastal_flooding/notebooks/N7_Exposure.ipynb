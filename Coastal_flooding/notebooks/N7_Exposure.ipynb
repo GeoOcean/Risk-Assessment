{
 "cells": [
  {
   "cell_type": "markdown",
   "id": "6292c107",
   "metadata": {},
   "source": [
    "# **Exposure**"
   ]
  },
  {
   "cell_type": "markdown",
   "id": "6de8b161",
   "metadata": {},
   "source": [
    " <span style=\"font-family: times, Optima; font-size:11pt; color:black;\">\n",
    "The exposure information available in Samoa and Tonga is the compilation that was finalized in 2010 under the Pacific Catastrophe Risk Financing and Insurance Initiative (PCRAFI) project. The exposure database of PCRAFI contains country-specific information on assets, population, and some major infrastructure.<br>\n",
    "    \n",
    "    The assets included in the analysis are: buildings, roads, special infrastructures, crops, and population. \n",
    "\n",
    "> * **Buildings:** <br>\n",
    "Buildings are represented as singular points containing the attributes of Occupation, Construction Type, Replacement Cost, Area, and Number of Stories.\n",
    "\n",
    "> * **Road and special infrastructures:**<br> \n",
    "The special infrastructures are also singular points, but a buffer has been applied to represent the real area in a more realistic approach.\n",
    "\n",
    "> * **Crops:**<br>\n",
    "The crops layer contains the major cash-crops, their location, typology and replacement cost. This crops file, is a subset of a more comprehensive land cover geodatabase where other land uses categories were indexes. For the analysis performed here we have rely on the land use dataset and only account for the crops. \n",
    "\n",
    "> * **Population:**<br>\n",
    "The population layer comes from SPC and is updated at 2020, it is a 90m raster, representing the population at each cell.\n",
    "\n",
    "<span>\n",
    "      "
   ]
  },
  {
   "cell_type": "code",
   "execution_count": null,
   "id": "cd76f520",
   "metadata": {},
   "outputs": [],
   "source": [
    "import warnings\n",
    "warnings.filterwarnings(\"ignore\")"
   ]
  },
  {
   "cell_type": "code",
   "execution_count": null,
   "id": "1cb89f07",
   "metadata": {},
   "outputs": [],
   "source": [
    "import os\n",
    "import os.path as op\n",
    "import sys\n",
    "\n",
    "# basics\n",
    "import glob\n",
    "import xarray as xr\n",
    "import pickle\n",
    "\n",
    "# raster tools\n",
    "from rasterio.crs import CRS\n",
    "import geopandas as gpd\n",
    "import json\n",
    "import rioxarray\n",
    "\n",
    "# kepler \n",
    "from keplergl import KeplerGl"
   ]
  },
  {
   "cell_type": "raw",
   "id": "a4208c92-b249-4ecd-b8cb-66e334c885d4",
   "metadata": {},
   "source": [
    "os.environ['PROJ_LIB'] = r'/home/administrador/anaconda3/envs/env3/share/proj'"
   ]
  },
  {
   "cell_type": "markdown",
   "id": "a56e4602",
   "metadata": {},
   "source": [
    "**Load Exposure Layers**"
   ]
  },
  {
   "cell_type": "code",
   "execution_count": null,
   "id": "38ef40b4",
   "metadata": {},
   "outputs": [],
   "source": [
    "p_data = op.join(os.getcwd(), '..', 'data', 'riskscape', 'assets')"
   ]
  },
  {
   "cell_type": "code",
   "execution_count": null,
   "id": "6b3ce621",
   "metadata": {},
   "outputs": [],
   "source": [
    "a_file = open(op.join(p_data, '..', 'config_files', 'config_exposure_upolu.json'))\n",
    "config_exp_up = json.load(a_file)"
   ]
  },
  {
   "cell_type": "code",
   "execution_count": null,
   "id": "039d4aaa",
   "metadata": {},
   "outputs": [],
   "source": [
    "build_exp = gpd.read_file(glob.glob(op.join(p_data, 'upolu_bld_all_buffer.shp'))[0])\n",
    "land_exp = gpd.read_file(glob.glob(op.join(p_data, 'upolu_vector_final.shp'))[0])\n",
    "roads_exp = gpd.read_file(glob.glob(op.join(p_data, 'upolu_roads.shp'))[0])\n",
    "spec_exp = gpd.read_file(glob.glob(op.join(p_data, 'upolu_specials.shp'))[0])\n",
    "people_exp = xr.open_rasterio(op.join(p_data, 'Population2020_proj.tif'))"
   ]
  },
  {
   "cell_type": "markdown",
   "id": "c469e35a",
   "metadata": {},
   "source": [
    "**Reproject raster**"
   ]
  },
  {
   "cell_type": "code",
   "execution_count": null,
   "id": "9427a3ce",
   "metadata": {},
   "outputs": [],
   "source": [
    "crs_wgs84 = CRS.from_string('EPSG:4326') # WGS84\n",
    "\n",
    "# Reproject the data using the crs object\n",
    "people_84 = people_exp.rio.reproject(crs_wgs84)"
   ]
  },
  {
   "cell_type": "code",
   "execution_count": null,
   "id": "2fc0fbe6",
   "metadata": {},
   "outputs": [],
   "source": [
    "build_exp = build_exp.to_crs(epsg=4326)\n",
    "land_exp = land_exp.to_crs(epsg=4326)\n",
    "roads_exp = roads_exp.to_crs(epsg=4326)\n",
    "spec_exp = spec_exp.to_crs(epsg=4326)"
   ]
  },
  {
   "cell_type": "code",
   "execution_count": null,
   "id": "028baf35",
   "metadata": {},
   "outputs": [],
   "source": [
    "build_exp = build_exp[['Value', 'Occ', 'geometry']]\n",
    "land_exp = land_exp[['CLASS_NAME', 'geometry']]\n",
    "roads_exp = roads_exp[['CLASS', 'geometry']]\n",
    "spec_exp = spec_exp[['TYPE', 'geometry']]"
   ]
  },
  {
   "cell_type": "code",
   "execution_count": null,
   "id": "9273d8b7",
   "metadata": {},
   "outputs": [],
   "source": [
    "ds_people = people_84.to_dataset(name='density').drop('band').squeeze().drop('spatial_ref')\n",
    "df_people = ds_people.where(ds_people.density != ds_people.density._FillValue).to_dataframe().dropna().reset_index()\n",
    "df_people = df_people.rename(columns={'x':'Lon', 'y':'Lat'})"
   ]
  },
  {
   "cell_type": "code",
   "execution_count": null,
   "id": "cb851901",
   "metadata": {},
   "outputs": [],
   "source": [
    "# Load Hazard - flooding depth\n",
    "map_1 = KeplerGl(height=700, show_docs=False, config=config_exp_up)\n",
    "\n",
    "# Load Exposure - Assets: Buildings, Land and Roads\n",
    "map_1.add_data(data=build_exp, name='Buildings Exposure')\n",
    "map_1.add_data(data=land_exp, name='Land Exposure')\n",
    "map_1.add_data(data=roads_exp, name='Roads Exposure')\n",
    "map_1.add_data(data=spec_exp, name='Specials Exposure')\n",
    "map_1.add_data(data=df_people, name='People EXposure')\n",
    "map_1"
   ]
  },
  {
   "cell_type": "raw",
   "id": "a9cbc3ea-b159-46c5-a7cc-56a7725ad892",
   "metadata": {},
   "source": [
    "map_1.save_to_html(file_name='../html/exposure_upolu.html')"
   ]
  },
  {
   "cell_type": "raw",
   "id": "b1ec9466-236a-4fd3-970f-26a602151110",
   "metadata": {},
   "source": [
    "with open(\"../data/riskscape/config_files/config_exposure_upolu.json\", \"w\") as outfile:\n",
    "    json.dump(map_1.config, outfile)"
   ]
  }
 ],
 "metadata": {
  "kernelspec": {
   "display_name": "Python 3 (ipykernel)",
   "language": "python",
   "name": "python3"
  },
  "language_info": {
   "codemirror_mode": {
    "name": "ipython",
    "version": 3
   },
   "file_extension": ".py",
   "mimetype": "text/x-python",
   "name": "python",
   "nbconvert_exporter": "python",
   "pygments_lexer": "ipython3",
   "version": "3.8.13"
  },
  "widgets": {
   "application/vnd.jupyter.widget-state+json": {
    "state": {},
    "version_major": 2,
    "version_minor": 0
   }
  }
 },
 "nbformat": 4,
 "nbformat_minor": 5
}
