{
 "cells": [
  {
   "cell_type": "markdown",
   "metadata": {
    "tags": []
   },
   "source": [
    "# **Statistical Analysis of Extreme Events**\n",
    "# Peaks Over Threshold (POT) - Poisson & Generalized Pareto distributions"
   ]
  },
  {
   "cell_type": "code",
   "execution_count": null,
   "metadata": {},
   "outputs": [],
   "source": [
    "import os\n",
    "import os.path as op\n",
    "import sys \n",
    "\n",
    "# arrays\n",
    "import numpy as np\n",
    "import pandas as pd\n",
    "import xarray as xr\n",
    "import datetime\n",
    "from numpy.random import multivariate_normal\n",
    "from scipy.stats import poisson, genpareto, genextreme\n",
    "from scipy.optimize import curve_fit\n",
    "from scipy.io import loadmat\n",
    "\n",
    "# plots\n",
    "import matplotlib.pyplot as plt\n",
    "import plotly.express as px\n",
    "import plotly.graph_objects as go\n",
    "from plotly.subplots import make_subplots\n",
    "\n",
    "# append ddviewer to path\n",
    "sys.path.insert(0, op.join(os.getcwd(), '..','..'))\n",
    "\n",
    "from lib.extremes import *\n",
    "from lib.config import *"
   ]
  },
  {
   "cell_type": "code",
   "execution_count": null,
   "metadata": {},
   "outputs": [],
   "source": [
    "from IPython.display import Image\n",
    "Image(url='../../lib/resources/POT.png', width=700)"
   ]
  },
  {
   "cell_type": "markdown",
   "metadata": {},
   "source": [
    "## **Load input database** <a class=\"anchor\" id=\"1\"></a>"
   ]
  },
  {
   "cell_type": "code",
   "execution_count": null,
   "metadata": {},
   "outputs": [],
   "source": [
    "# Load database (.csv)\n",
    "path = op.join(os.getcwd(), '..','storage')\n",
    "file = 'TWL_1139.csv'"
   ]
  },
  {
   "cell_type": "code",
   "execution_count": null,
   "metadata": {},
   "outputs": [],
   "source": [
    "data = pd.read_csv(\n",
    "    op.join(path, file), parse_dates=['time']\n",
    ")\n",
    "data = data.set_index('time').dropna()"
   ]
  },
  {
   "cell_type": "markdown",
   "metadata": {},
   "source": [
    "## **Data visualization** <a class=\"anchor\" id=\"2\"></a>"
   ]
  },
  {
   "cell_type": "code",
   "execution_count": null,
   "metadata": {},
   "outputs": [],
   "source": [
    "var = 'TWL'\n",
    "data = data[[var]]\n",
    "\n",
    "data['year'] = data.index.year\n",
    "data['month'] = data.index.month\n",
    "data['day'] = data.index.day\n",
    "\n",
    "data = data.resample('1H').ffill()"
   ]
  },
  {
   "cell_type": "markdown",
   "metadata": {},
   "source": [
    "### Box-plot of monthly data <a class=\"anchor\" id=\"21\"></a>"
   ]
  },
  {
   "cell_type": "code",
   "execution_count": null,
   "metadata": {},
   "outputs": [],
   "source": [
    "# Use plotly library for plotting boxplot\n",
    "fig = px.box(data, x=\"month\", y=var, notched=True)\n",
    "fig.show()"
   ]
  },
  {
   "cell_type": "markdown",
   "metadata": {},
   "source": [
    "### Monthly maxima <a class=\"anchor\" id=\"22\"></a>"
   ]
  },
  {
   "cell_type": "code",
   "execution_count": null,
   "metadata": {},
   "outputs": [],
   "source": [
    "df_mm = data.groupby(by=['year','month'])[var].max().dropna().reset_index()\n",
    "df_mm = pd.merge(df_mm, data, how='inner', on=['year', 'month', var])\n",
    "df_mm['date'] = pd.to_datetime(df_mm[['year', 'month', 'day']], errors='coerce')\n",
    "df_mm = df_mm.set_index('date')"
   ]
  },
  {
   "cell_type": "code",
   "execution_count": null,
   "metadata": {},
   "outputs": [],
   "source": [
    "fig = px.line(df_mm[var], width=1200, height=400)\n",
    "fig.show()"
   ]
  },
  {
   "cell_type": "markdown",
   "metadata": {},
   "source": [
    "## **Fit Historical Peaks over Threshold to Pareto-Poisson distribution** <a class=\"anchor\" id=\"3\"></a>"
   ]
  },
  {
   "cell_type": "markdown",
   "metadata": {},
   "source": [
    "### Eliminate years with incomplete months"
   ]
  },
  {
   "cell_type": "code",
   "execution_count": null,
   "metadata": {},
   "outputs": [],
   "source": [
    "data['day_id'] = 1\n",
    "data_few = data.groupby('year').sum().reset_index()\n",
    "data_few = data_few.loc[data_few['day_id'] > 300]"
   ]
  },
  {
   "cell_type": "code",
   "execution_count": null,
   "metadata": {},
   "outputs": [],
   "source": [
    "data = data[data['year'].isin(data_few['year'].values)]"
   ]
  },
  {
   "cell_type": "markdown",
   "metadata": {},
   "source": [
    "### Calculate POT"
   ]
  },
  {
   "cell_type": "code",
   "execution_count": null,
   "metadata": {},
   "outputs": [],
   "source": [
    "# Set threshold \n",
    "th = np.percentile(data[var], 98) \n",
    "ie = 5   # days between independent peaks\n",
    "\n",
    "# Calculate data over threshold\n",
    "data_pot = data.loc[data[var] >= th]\n",
    "\n",
    "# Days between consecutive events\n",
    "ix_space = np.diff(data_pot.index).astype('timedelta64[h]').astype(int)\n",
    "ix_space = list(ix_space) + [ie] # include last event\n",
    "\n",
    "# Get independent peaks\n",
    "idx = []\n",
    "for nt in np.where(ix_space)[0]:\n",
    "    day = data_pot.index[nt]\n",
    "    rangeday = np.arange(day-datetime.timedelta(days=ie), day+datetime.timedelta(days=ie), datetime.timedelta(hours=1))\n",
    "    if data_pot[var].iloc[nt] == np.max(data[var].loc[rangeday]):\n",
    "        idx.append(nt)\n",
    "\n",
    "data_pot = data_pot.iloc[idx]\n"
   ]
  },
  {
   "cell_type": "code",
   "execution_count": null,
   "metadata": {},
   "outputs": [],
   "source": [
    "fig = go.Figure()\n",
    "fig.add_trace(\n",
    "    go.Scatter(\n",
    "        x = data.index, y = data[var],\n",
    "        mode ='lines', name = 'Historical {0} (m)'.format(var),\n",
    "    )\n",
    ")\n",
    "fig.add_trace(\n",
    "    go.Scatter(\n",
    "        x = data_pot.index, y = data_pot[var],\n",
    "        mode ='markers', name = 'Peaks Over Threshold',\n",
    "    )\n",
    ")\n",
    "fig.add_shape(\n",
    "    type=\"line\",\n",
    "    x0=0, x1=1, xref='paper',\n",
    "    y0=th,  y1=th, yref='y',\n",
    "    line=dict(\n",
    "        color=\"gray\",\n",
    "        dash=\"dash\",\n",
    "    )\n",
    ")\n",
    "fig.update_layout(    \n",
    "    xaxis_title = \"time\",\n",
    "    yaxis_title = \"{0} (m)\".format(var),\n",
    "    yaxis=dict(rangemode='nonnegative')\n",
    ")\n",
    "fig.show()\n"
   ]
  },
  {
   "cell_type": "markdown",
   "metadata": {},
   "source": [
    "### Fit POT Frequency to Poisson distribution <a class=\"anchor\" id=\"32\"></a>"
   ]
  },
  {
   "cell_type": "code",
   "execution_count": null,
   "metadata": {},
   "outputs": [],
   "source": [
    "# get number of events each year \n",
    "y_events = data_pot.groupby(by=[data_pot.index.year]).count()[var].values\n",
    "\n",
    "# get frequency\n",
    "N, freq = np.unique(y_events, return_counts=True)\n",
    "\n",
    "# optimize poisson lambda parameter\n",
    "params = np.mean(y_events)\n",
    "print('lambda Poisson : {0}'.format(np.float(params)))\n",
    "\n",
    "# freeze poisson distribution\n",
    "rv_poi = poisson(params)\n",
    "\n",
    "# generate some values from poisson to plot\n",
    "x = np.arange(rv_poi.ppf(0), rv_poi.ppf(0.999))\n",
    "y = rv_poi.pmf(x) "
   ]
  },
  {
   "cell_type": "code",
   "execution_count": null,
   "metadata": {},
   "outputs": [],
   "source": [
    "# Plot POISSON PMF vs data frequency histogram\n",
    "print(freq)\n",
    "\n",
    "fig = go.Figure()\n",
    "fig.add_trace(go.Histogram(x=y_events, histnorm='probability density', name='Historical Hs'))\n",
    "fig.add_trace(go.Bar(x=x, y=y, name='PMF'))\n",
    "\n",
    "fig.update_layout(    \n",
    "    xaxis_title = \"x\",\n",
    "    yaxis_title = \"P(x)\",\n",
    "    title = 'Poisson Probability Mass Function',\n",
    "    yaxis=dict(rangemode='nonnegative')\n",
    ")\n",
    "fig.show()\n"
   ]
  },
  {
   "cell_type": "markdown",
   "metadata": {},
   "source": [
    "### Simulate extreme values from Poisson distribution <a class=\"anchor\" id=\"34\"></a>"
   ]
  },
  {
   "cell_type": "code",
   "execution_count": null,
   "metadata": {},
   "outputs": [],
   "source": [
    "# simulate some values for this Poisson\n",
    "size_sim = 1000\n",
    "var_sim = rv_poi.rvs(size=size_sim)\n",
    "\n",
    "# Plot POI pdf vs simulated data\n",
    "fig = go.Figure()\n",
    "fig.add_trace(go.Histogram(x=var_sim, histnorm='probability density', name='Simulation Hs'))\n",
    "fig.add_trace(go.Bar(x=x, y=y, name='PMF'))\n",
    "\n",
    "fig.update_layout(    \n",
    "    xaxis_title = \"x\",\n",
    "    yaxis_title = \"P(x)\",\n",
    "    title = 'Poisson Probability Mass Function',\n",
    "    yaxis=dict(rangemode='nonnegative')\n",
    ")\n",
    "fig.show()\n"
   ]
  },
  {
   "cell_type": "markdown",
   "metadata": {},
   "source": [
    "### Fit POT Intensity to Generalized Pareto distribution <a class=\"anchor\" id=\"32\"></a>"
   ]
  },
  {
   "cell_type": "code",
   "execution_count": null,
   "metadata": {},
   "outputs": [],
   "source": [
    "data_pot"
   ]
  },
  {
   "cell_type": "code",
   "execution_count": null,
   "metadata": {},
   "outputs": [],
   "source": [
    "# get event max intensity (for hydrologic year)\n",
    "imax = data_pot.groupby(by=[data_pot.index.year]).max()\n",
    "intensity = data_pot[var].values - th\n",
    "\n",
    "# fit data to GPD\n",
    "shape, loc, scale = genpareto.fit(intensity, floc=0)\n",
    "print(shape, loc, scale)\n",
    "\n",
    "# negative loglikelihood\n",
    "nLogL = genpareto.nnlf((shape, loc, scale), intensity)\n",
    "\n",
    "# GPD parameters\n",
    "theta = (shape, loc, scale)\n",
    "\n",
    "# freeze GPD with parameters, get GPD PDF\n",
    "rv_gpd = genpareto(shape, loc, scale)  \n",
    "x = np.linspace(rv_gpd.ppf(0), rv_gpd.ppf(1), 1000)\n",
    "y = rv_gpd.pdf(x)\n"
   ]
  },
  {
   "cell_type": "code",
   "execution_count": null,
   "metadata": {},
   "outputs": [],
   "source": [
    "# Plot GPD PDF vs data probability density histogram\n",
    "\n",
    "fig = go.Figure()\n",
    "fig.add_trace(go.Scatter(x=x, y=y, mode='lines', name='PDF', marker_color='black'))\n",
    "fig.add_trace(go.Histogram(x=intensity.reshape(-1), nbinsx=10,histnorm='probability density', name='Historical'))\n",
    "\n",
    "fig.update_layout(    \n",
    "    xaxis_title = \"x\",\n",
    "    yaxis_title = \"P(x)\",\n",
    "    title = 'GPD Probability Density Function',\n",
    "    yaxis=dict(rangemode='nonnegative')\n",
    ")\n",
    "fig.update_xaxes(range=[0, x.max()])\n",
    "fig.show()"
   ]
  },
  {
   "cell_type": "markdown",
   "metadata": {},
   "source": [
    "### Simulate extreme values from Pareto distribution <a class=\"anchor\" id=\"34\"></a>"
   ]
  },
  {
   "cell_type": "code",
   "execution_count": null,
   "metadata": {},
   "outputs": [],
   "source": [
    "# simulate some values for this GPD\n",
    "var_sim = rv_gpd.rvs(size=size_sim)\n",
    "\n",
    "# Plot POI pdf vs simulated data\n",
    "fig = go.Figure()\n",
    "fig.add_trace(go.Scatter(x=x, y=y, mode='lines', name='PDF', marker_color='black'))\n",
    "fig.add_trace(go.Histogram(x=var_sim, histnorm='probability density', name='Simulation'))\n",
    "\n",
    "fig.update_layout(    \n",
    "    xaxis_title = \"x\",\n",
    "    yaxis_title = \"P(x)\",\n",
    "    title = 'Generalized Pareto Probability Mass Function',\n",
    "    yaxis=dict(rangemode='nonnegative')\n",
    ")\n",
    "fig.update_xaxes(range=[0, x.max()])\n",
    "fig.show()"
   ]
  },
  {
   "cell_type": "markdown",
   "metadata": {},
   "source": [
    "## **Simulate extreme values by considering the simulated PARETO-POISSON parameters** <a class=\"anchor\" id=\"3\"></a>"
   ]
  },
  {
   "cell_type": "code",
   "execution_count": null,
   "metadata": {},
   "outputs": [],
   "source": [
    "# years of Hs extremes to simulate\n",
    "n_sims = 1000\n",
    "years_sim = 100 \n",
    "\n",
    "ds_sim = xr.Dataset()\n",
    "\n",
    "for c, ts in enumerate(range(n_sims)):\n",
    "    sys.stdout.write('Simulation {0} from {1}\\r'.format(c, len(range(n_sims))))\n",
    "    sys.stdout.flush()\n",
    "    \n",
    "    # empty array to storage annual maximas\n",
    "    annual_max = []\n",
    "\n",
    "    # get number of extreme events for each year from POI frequency distribution\n",
    "    sim_n_events_year = rv_poi.rvs(size=years_sim)\n",
    "    \n",
    "    # simulate a large data sample\n",
    "    size = int(params * 2 * years_sim)\n",
    "    intensity_events = genpareto.rvs(shape, loc=0, scale=scale, size=size)\n",
    "    \n",
    "    # for each year, \n",
    "    for y in range(years_sim):\n",
    "\n",
    "        # simulate intensity from GPD intensity distribution, for all extreme events\n",
    "        n_events = sim_n_events_year[y]\n",
    "\n",
    "        # find annual maxima\n",
    "        if n_events > 0:\n",
    "            \n",
    "            # select number of events\n",
    "            events = intensity_events[0:n_events]\n",
    "            intensity_events = intensity_events[n_events:]\n",
    "\n",
    "            annual_max.append(th + events.max())\n",
    "            \n",
    "        else: annual_max.append(th)\n",
    "\n",
    "    # Simulated Hs Extremes\n",
    "    sim_extremes = pd.DataFrame({var : annual_max})\n",
    "    sim_extremes.index.name = 'year'\n",
    "    sim_extremes = sim_extremes.to_xarray().assign_coords(sim=c).expand_dims('sim')\n",
    "\n",
    "    ds_sim = xr.merge([sim_extremes, ds_sim])\n"
   ]
  },
  {
   "cell_type": "markdown",
   "metadata": {},
   "source": [
    "### Plot return period"
   ]
  },
  {
   "cell_type": "code",
   "execution_count": null,
   "metadata": {},
   "outputs": [],
   "source": [
    "# historical rp time and sorted annual maxima\n",
    "trp_hist = t_rp(imax.index)\n",
    "trp_hist_val = np.sort(imax[var])\n",
    "\n",
    "# simulation rp time and sorted annual maxima\n",
    "trp_sim = t_rp(ds_sim.year.values)\n",
    "trp_sim_val = np.sort(ds_sim[var].values)\n",
    "\n",
    "# calculate simulation maxima percentiles\n",
    "p95 = np.nanpercentile(trp_sim_val, 100-5/2.0, axis=0,)\n",
    "p50 = np.nanpercentile(trp_sim_val, 50, axis=0,)\n",
    "p05 = np.nanpercentile(trp_sim_val, 5/2.0, axis=0,)"
   ]
  },
  {
   "cell_type": "code",
   "execution_count": null,
   "metadata": {},
   "outputs": [],
   "source": [
    "# Plot return period\n",
    "\n",
    "fig = go.Figure()\n",
    "fig.add_trace(go.Scatter(x=trp_sim, y=p95, mode='lines', name='P95', marker_color='mediumturquoise'))\n",
    "fig.add_trace(go.Scatter(x=trp_sim, y=p05, mode='lines', name='P05', marker_color='mediumturquoise',  fill='tonexty', fillcolor='rgba(0, 181, 204, 0.10)'))\n",
    "fig.add_trace(go.Scatter(x=trp_sim, y=p50, mode='lines', name='P50', marker_color='black'))\n",
    "fig.add_trace(go.Scatter(x=trp_hist, y=trp_hist_val, mode='markers', name='Hist', marker_color='red'))\n",
    "\n",
    "\n",
    "fig.update_xaxes(type=\"log\")\n",
    "fig.update_layout(    \n",
    "    xaxis_title = \"Return Period (years)\",\n",
    "    yaxis_title = \"TWL (m)\",\n",
    "    title = 'POT',\n",
    "    width=400*2.5, height=300*2.5\n",
    ")\n",
    "fig.show()"
   ]
  },
  {
   "cell_type": "code",
   "execution_count": null,
   "metadata": {},
   "outputs": [],
   "source": [
    "ds_sim"
   ]
  },
  {
   "cell_type": "code",
   "execution_count": null,
   "metadata": {},
   "outputs": [],
   "source": [
    "# plot GEV pdf vs simulated data\n",
    "fig = go.Figure()\n",
    "#fig.add_trace(go.Scatter(x=x, y=y, mode='lines', name='PDF', marker_color='black'))\n",
    "fig.add_trace(go.Histogram(x=ds_sim['TWL'], nbinsx = 60, histnorm='probability density', name='Simulation'))\n",
    "\n",
    "fig.update_layout(    \n",
    "    xaxis_title = \"x\",\n",
    "    yaxis_title = \"P(x)\",\n",
    "    title = 'GEV Probability Density Function',\n",
    "    yaxis=dict(rangemode='nonnegative')\n",
    ")\n",
    "fig.show()"
   ]
  },
  {
   "cell_type": "code",
   "execution_count": null,
   "metadata": {},
   "outputs": [],
   "source": []
  }
 ],
 "metadata": {
  "kernelspec": {
   "display_name": "Python 3 (ipykernel)",
   "language": "python",
   "name": "python3"
  },
  "language_info": {
   "codemirror_mode": {
    "name": "ipython",
    "version": 3
   },
   "file_extension": ".py",
   "mimetype": "text/x-python",
   "name": "python",
   "nbconvert_exporter": "python",
   "pygments_lexer": "ipython3",
   "version": "3.8.13"
  },
  "widgets": {
   "application/vnd.jupyter.widget-state+json": {
    "state": {},
    "version_major": 2,
    "version_minor": 0
   }
  }
 },
 "nbformat": 4,
 "nbformat_minor": 4
}
